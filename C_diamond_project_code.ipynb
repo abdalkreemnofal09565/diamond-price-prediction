{
  "cells": [
    {
      "cell_type": "markdown",
      "source": [
        "---\n",
        "\n",
        "#1- Get the Data\n",
        "\n",
        "---\n",
        "\n",
        "\n"
      ],
      "metadata": {
        "id": "FaIDJsp1SLak"
      }
    },
    {
      "cell_type": "code",
      "execution_count": null,
      "metadata": {
        "id": "ISvIHKrBrdyH"
      },
      "outputs": [],
      "source": [
        "import numpy as np # linear algebra\n",
        "import pandas as pd # data processing, CSV file I/O (e.g. pd.read_csv)\n",
        "import matplotlib.pyplot as plt\n",
        "import seaborn as sns"
      ]
    },
    {
      "cell_type": "markdown",
      "source": [
        "**Read train.csv as a dataframe called train.**\n",
        "\n",
        "**Read test.csv as a dataframe called test.**"
      ],
      "metadata": {
        "id": "I3R2tzcrQwVx"
      }
    },
    {
      "cell_type": "code",
      "execution_count": null,
      "metadata": {
        "id": "wsWBFMXjsXMR"
      },
      "outputs": [],
      "source": [
        "train = pd.read_csv('/content/drive/MyDrive/train.csv')\n",
        "test = pd.read_csv('/content/drive/MyDrive/test.csv')"
      ]
    },
    {
      "cell_type": "markdown",
      "source": [
        "---\n",
        "\n",
        "#2- Discover and visualize the data\n",
        "\n",
        "---\n",
        "\n"
      ],
      "metadata": {
        "id": "Njnhrzd5SIx1"
      }
    },
    {
      "cell_type": "markdown",
      "source": [
        "## A- Data discovery"
      ],
      "metadata": {
        "id": "4mPo5IPbUfon"
      }
    },
    {
      "cell_type": "markdown",
      "source": [
        "taking a look at the top five rows of train DataFrame using the DataFrame’s head() method"
      ],
      "metadata": {
        "id": "0QecB1b_Uj_P"
      }
    },
    {
      "cell_type": "code",
      "execution_count": null,
      "metadata": {
        "colab": {
          "base_uri": "https://localhost:8080/",
          "height": 206
        },
        "id": "-pwoF4bYsdjn",
        "outputId": "73bad3ec-02e0-43f9-f0e7-26daeb7a118e"
      },
      "outputs": [
        {
          "output_type": "execute_result",
          "data": {
            "text/plain": [
              "   Id  carat      cut color clarity  depth  table  price     x     y     z\n",
              "0   1   1.06    Ideal     I     SI2   61.8   57.0   4270  6.57  6.60  4.07\n",
              "1   2   1.51  Premium     G    VVS2   60.9   58.0  15164  7.38  7.42  4.51\n",
              "2   3   0.32    Ideal     F     VS2   61.3   56.0    828  4.43  4.41  2.71\n",
              "3   4   0.53    Ideal     G     VS2   61.2   56.0   1577  5.19  5.22  3.19\n",
              "4   5   0.70  Premium     H    VVS2   61.0   57.0   2596  5.76  5.72  3.50"
            ],
            "text/html": [
              "\n",
              "  <div id=\"df-e81cf749-d4af-43b4-928e-9eff6c9bb885\">\n",
              "    <div class=\"colab-df-container\">\n",
              "      <div>\n",
              "<style scoped>\n",
              "    .dataframe tbody tr th:only-of-type {\n",
              "        vertical-align: middle;\n",
              "    }\n",
              "\n",
              "    .dataframe tbody tr th {\n",
              "        vertical-align: top;\n",
              "    }\n",
              "\n",
              "    .dataframe thead th {\n",
              "        text-align: right;\n",
              "    }\n",
              "</style>\n",
              "<table border=\"1\" class=\"dataframe\">\n",
              "  <thead>\n",
              "    <tr style=\"text-align: right;\">\n",
              "      <th></th>\n",
              "      <th>Id</th>\n",
              "      <th>carat</th>\n",
              "      <th>cut</th>\n",
              "      <th>color</th>\n",
              "      <th>clarity</th>\n",
              "      <th>depth</th>\n",
              "      <th>table</th>\n",
              "      <th>price</th>\n",
              "      <th>x</th>\n",
              "      <th>y</th>\n",
              "      <th>z</th>\n",
              "    </tr>\n",
              "  </thead>\n",
              "  <tbody>\n",
              "    <tr>\n",
              "      <th>0</th>\n",
              "      <td>1</td>\n",
              "      <td>1.06</td>\n",
              "      <td>Ideal</td>\n",
              "      <td>I</td>\n",
              "      <td>SI2</td>\n",
              "      <td>61.8</td>\n",
              "      <td>57.0</td>\n",
              "      <td>4270</td>\n",
              "      <td>6.57</td>\n",
              "      <td>6.60</td>\n",
              "      <td>4.07</td>\n",
              "    </tr>\n",
              "    <tr>\n",
              "      <th>1</th>\n",
              "      <td>2</td>\n",
              "      <td>1.51</td>\n",
              "      <td>Premium</td>\n",
              "      <td>G</td>\n",
              "      <td>VVS2</td>\n",
              "      <td>60.9</td>\n",
              "      <td>58.0</td>\n",
              "      <td>15164</td>\n",
              "      <td>7.38</td>\n",
              "      <td>7.42</td>\n",
              "      <td>4.51</td>\n",
              "    </tr>\n",
              "    <tr>\n",
              "      <th>2</th>\n",
              "      <td>3</td>\n",
              "      <td>0.32</td>\n",
              "      <td>Ideal</td>\n",
              "      <td>F</td>\n",
              "      <td>VS2</td>\n",
              "      <td>61.3</td>\n",
              "      <td>56.0</td>\n",
              "      <td>828</td>\n",
              "      <td>4.43</td>\n",
              "      <td>4.41</td>\n",
              "      <td>2.71</td>\n",
              "    </tr>\n",
              "    <tr>\n",
              "      <th>3</th>\n",
              "      <td>4</td>\n",
              "      <td>0.53</td>\n",
              "      <td>Ideal</td>\n",
              "      <td>G</td>\n",
              "      <td>VS2</td>\n",
              "      <td>61.2</td>\n",
              "      <td>56.0</td>\n",
              "      <td>1577</td>\n",
              "      <td>5.19</td>\n",
              "      <td>5.22</td>\n",
              "      <td>3.19</td>\n",
              "    </tr>\n",
              "    <tr>\n",
              "      <th>4</th>\n",
              "      <td>5</td>\n",
              "      <td>0.70</td>\n",
              "      <td>Premium</td>\n",
              "      <td>H</td>\n",
              "      <td>VVS2</td>\n",
              "      <td>61.0</td>\n",
              "      <td>57.0</td>\n",
              "      <td>2596</td>\n",
              "      <td>5.76</td>\n",
              "      <td>5.72</td>\n",
              "      <td>3.50</td>\n",
              "    </tr>\n",
              "  </tbody>\n",
              "</table>\n",
              "</div>\n",
              "      <button class=\"colab-df-convert\" onclick=\"convertToInteractive('df-e81cf749-d4af-43b4-928e-9eff6c9bb885')\"\n",
              "              title=\"Convert this dataframe to an interactive table.\"\n",
              "              style=\"display:none;\">\n",
              "        \n",
              "  <svg xmlns=\"http://www.w3.org/2000/svg\" height=\"24px\"viewBox=\"0 0 24 24\"\n",
              "       width=\"24px\">\n",
              "    <path d=\"M0 0h24v24H0V0z\" fill=\"none\"/>\n",
              "    <path d=\"M18.56 5.44l.94 2.06.94-2.06 2.06-.94-2.06-.94-.94-2.06-.94 2.06-2.06.94zm-11 1L8.5 8.5l.94-2.06 2.06-.94-2.06-.94L8.5 2.5l-.94 2.06-2.06.94zm10 10l.94 2.06.94-2.06 2.06-.94-2.06-.94-.94-2.06-.94 2.06-2.06.94z\"/><path d=\"M17.41 7.96l-1.37-1.37c-.4-.4-.92-.59-1.43-.59-.52 0-1.04.2-1.43.59L10.3 9.45l-7.72 7.72c-.78.78-.78 2.05 0 2.83L4 21.41c.39.39.9.59 1.41.59.51 0 1.02-.2 1.41-.59l7.78-7.78 2.81-2.81c.8-.78.8-2.07 0-2.86zM5.41 20L4 18.59l7.72-7.72 1.47 1.35L5.41 20z\"/>\n",
              "  </svg>\n",
              "      </button>\n",
              "      \n",
              "  <style>\n",
              "    .colab-df-container {\n",
              "      display:flex;\n",
              "      flex-wrap:wrap;\n",
              "      gap: 12px;\n",
              "    }\n",
              "\n",
              "    .colab-df-convert {\n",
              "      background-color: #E8F0FE;\n",
              "      border: none;\n",
              "      border-radius: 50%;\n",
              "      cursor: pointer;\n",
              "      display: none;\n",
              "      fill: #1967D2;\n",
              "      height: 32px;\n",
              "      padding: 0 0 0 0;\n",
              "      width: 32px;\n",
              "    }\n",
              "\n",
              "    .colab-df-convert:hover {\n",
              "      background-color: #E2EBFA;\n",
              "      box-shadow: 0px 1px 2px rgba(60, 64, 67, 0.3), 0px 1px 3px 1px rgba(60, 64, 67, 0.15);\n",
              "      fill: #174EA6;\n",
              "    }\n",
              "\n",
              "    [theme=dark] .colab-df-convert {\n",
              "      background-color: #3B4455;\n",
              "      fill: #D2E3FC;\n",
              "    }\n",
              "\n",
              "    [theme=dark] .colab-df-convert:hover {\n",
              "      background-color: #434B5C;\n",
              "      box-shadow: 0px 1px 3px 1px rgba(0, 0, 0, 0.15);\n",
              "      filter: drop-shadow(0px 1px 2px rgba(0, 0, 0, 0.3));\n",
              "      fill: #FFFFFF;\n",
              "    }\n",
              "  </style>\n",
              "\n",
              "      <script>\n",
              "        const buttonEl =\n",
              "          document.querySelector('#df-e81cf749-d4af-43b4-928e-9eff6c9bb885 button.colab-df-convert');\n",
              "        buttonEl.style.display =\n",
              "          google.colab.kernel.accessAllowed ? 'block' : 'none';\n",
              "\n",
              "        async function convertToInteractive(key) {\n",
              "          const element = document.querySelector('#df-e81cf749-d4af-43b4-928e-9eff6c9bb885');\n",
              "          const dataTable =\n",
              "            await google.colab.kernel.invokeFunction('convertToInteractive',\n",
              "                                                     [key], {});\n",
              "          if (!dataTable) return;\n",
              "\n",
              "          const docLinkHtml = 'Like what you see? Visit the ' +\n",
              "            '<a target=\"_blank\" href=https://colab.research.google.com/notebooks/data_table.ipynb>data table notebook</a>'\n",
              "            + ' to learn more about interactive tables.';\n",
              "          element.innerHTML = '';\n",
              "          dataTable['output_type'] = 'display_data';\n",
              "          await google.colab.output.renderOutput(dataTable, element);\n",
              "          const docLink = document.createElement('div');\n",
              "          docLink.innerHTML = docLinkHtml;\n",
              "          element.appendChild(docLink);\n",
              "        }\n",
              "      </script>\n",
              "    </div>\n",
              "  </div>\n",
              "  "
            ]
          },
          "metadata": {},
          "execution_count": 3
        }
      ],
      "source": [
        "train.head()"
      ]
    },
    {
      "cell_type": "markdown",
      "source": [
        "taking a look at the top five rows of test DataFrame using the DataFrame’s head() method"
      ],
      "metadata": {
        "id": "nwIzEgACWwaQ"
      }
    },
    {
      "cell_type": "code",
      "execution_count": null,
      "metadata": {
        "colab": {
          "base_uri": "https://localhost:8080/",
          "height": 206
        },
        "id": "u7Sa8BHgs6OI",
        "outputId": "a29dcbb3-c47f-4c47-e87b-97ea3f51955c"
      },
      "outputs": [
        {
          "output_type": "execute_result",
          "data": {
            "text/plain": [
              "   Id  carat        cut color clarity  depth  table     x     y     z\n",
              "0   1   0.34      Ideal     G    VVS2   61.1   57.0  4.52  4.48  2.75\n",
              "1   2   0.71    Premium     E     VS2   62.7   58.0  5.74  5.68  3.58\n",
              "2   3   0.44  Very Good     I     VS1   62.8   56.0  4.83  4.88  3.05\n",
              "3   4   0.81    Premium     E     SI2   60.1   59.0  6.09  6.03  3.65\n",
              "4   5   0.40      Ideal     G    VVS1   61.2   56.0  4.74  4.80  2.92"
            ],
            "text/html": [
              "\n",
              "  <div id=\"df-b444685a-c895-4de9-abe3-1791f93a1b39\">\n",
              "    <div class=\"colab-df-container\">\n",
              "      <div>\n",
              "<style scoped>\n",
              "    .dataframe tbody tr th:only-of-type {\n",
              "        vertical-align: middle;\n",
              "    }\n",
              "\n",
              "    .dataframe tbody tr th {\n",
              "        vertical-align: top;\n",
              "    }\n",
              "\n",
              "    .dataframe thead th {\n",
              "        text-align: right;\n",
              "    }\n",
              "</style>\n",
              "<table border=\"1\" class=\"dataframe\">\n",
              "  <thead>\n",
              "    <tr style=\"text-align: right;\">\n",
              "      <th></th>\n",
              "      <th>Id</th>\n",
              "      <th>carat</th>\n",
              "      <th>cut</th>\n",
              "      <th>color</th>\n",
              "      <th>clarity</th>\n",
              "      <th>depth</th>\n",
              "      <th>table</th>\n",
              "      <th>x</th>\n",
              "      <th>y</th>\n",
              "      <th>z</th>\n",
              "    </tr>\n",
              "  </thead>\n",
              "  <tbody>\n",
              "    <tr>\n",
              "      <th>0</th>\n",
              "      <td>1</td>\n",
              "      <td>0.34</td>\n",
              "      <td>Ideal</td>\n",
              "      <td>G</td>\n",
              "      <td>VVS2</td>\n",
              "      <td>61.1</td>\n",
              "      <td>57.0</td>\n",
              "      <td>4.52</td>\n",
              "      <td>4.48</td>\n",
              "      <td>2.75</td>\n",
              "    </tr>\n",
              "    <tr>\n",
              "      <th>1</th>\n",
              "      <td>2</td>\n",
              "      <td>0.71</td>\n",
              "      <td>Premium</td>\n",
              "      <td>E</td>\n",
              "      <td>VS2</td>\n",
              "      <td>62.7</td>\n",
              "      <td>58.0</td>\n",
              "      <td>5.74</td>\n",
              "      <td>5.68</td>\n",
              "      <td>3.58</td>\n",
              "    </tr>\n",
              "    <tr>\n",
              "      <th>2</th>\n",
              "      <td>3</td>\n",
              "      <td>0.44</td>\n",
              "      <td>Very Good</td>\n",
              "      <td>I</td>\n",
              "      <td>VS1</td>\n",
              "      <td>62.8</td>\n",
              "      <td>56.0</td>\n",
              "      <td>4.83</td>\n",
              "      <td>4.88</td>\n",
              "      <td>3.05</td>\n",
              "    </tr>\n",
              "    <tr>\n",
              "      <th>3</th>\n",
              "      <td>4</td>\n",
              "      <td>0.81</td>\n",
              "      <td>Premium</td>\n",
              "      <td>E</td>\n",
              "      <td>SI2</td>\n",
              "      <td>60.1</td>\n",
              "      <td>59.0</td>\n",
              "      <td>6.09</td>\n",
              "      <td>6.03</td>\n",
              "      <td>3.65</td>\n",
              "    </tr>\n",
              "    <tr>\n",
              "      <th>4</th>\n",
              "      <td>5</td>\n",
              "      <td>0.40</td>\n",
              "      <td>Ideal</td>\n",
              "      <td>G</td>\n",
              "      <td>VVS1</td>\n",
              "      <td>61.2</td>\n",
              "      <td>56.0</td>\n",
              "      <td>4.74</td>\n",
              "      <td>4.80</td>\n",
              "      <td>2.92</td>\n",
              "    </tr>\n",
              "  </tbody>\n",
              "</table>\n",
              "</div>\n",
              "      <button class=\"colab-df-convert\" onclick=\"convertToInteractive('df-b444685a-c895-4de9-abe3-1791f93a1b39')\"\n",
              "              title=\"Convert this dataframe to an interactive table.\"\n",
              "              style=\"display:none;\">\n",
              "        \n",
              "  <svg xmlns=\"http://www.w3.org/2000/svg\" height=\"24px\"viewBox=\"0 0 24 24\"\n",
              "       width=\"24px\">\n",
              "    <path d=\"M0 0h24v24H0V0z\" fill=\"none\"/>\n",
              "    <path d=\"M18.56 5.44l.94 2.06.94-2.06 2.06-.94-2.06-.94-.94-2.06-.94 2.06-2.06.94zm-11 1L8.5 8.5l.94-2.06 2.06-.94-2.06-.94L8.5 2.5l-.94 2.06-2.06.94zm10 10l.94 2.06.94-2.06 2.06-.94-2.06-.94-.94-2.06-.94 2.06-2.06.94z\"/><path d=\"M17.41 7.96l-1.37-1.37c-.4-.4-.92-.59-1.43-.59-.52 0-1.04.2-1.43.59L10.3 9.45l-7.72 7.72c-.78.78-.78 2.05 0 2.83L4 21.41c.39.39.9.59 1.41.59.51 0 1.02-.2 1.41-.59l7.78-7.78 2.81-2.81c.8-.78.8-2.07 0-2.86zM5.41 20L4 18.59l7.72-7.72 1.47 1.35L5.41 20z\"/>\n",
              "  </svg>\n",
              "      </button>\n",
              "      \n",
              "  <style>\n",
              "    .colab-df-container {\n",
              "      display:flex;\n",
              "      flex-wrap:wrap;\n",
              "      gap: 12px;\n",
              "    }\n",
              "\n",
              "    .colab-df-convert {\n",
              "      background-color: #E8F0FE;\n",
              "      border: none;\n",
              "      border-radius: 50%;\n",
              "      cursor: pointer;\n",
              "      display: none;\n",
              "      fill: #1967D2;\n",
              "      height: 32px;\n",
              "      padding: 0 0 0 0;\n",
              "      width: 32px;\n",
              "    }\n",
              "\n",
              "    .colab-df-convert:hover {\n",
              "      background-color: #E2EBFA;\n",
              "      box-shadow: 0px 1px 2px rgba(60, 64, 67, 0.3), 0px 1px 3px 1px rgba(60, 64, 67, 0.15);\n",
              "      fill: #174EA6;\n",
              "    }\n",
              "\n",
              "    [theme=dark] .colab-df-convert {\n",
              "      background-color: #3B4455;\n",
              "      fill: #D2E3FC;\n",
              "    }\n",
              "\n",
              "    [theme=dark] .colab-df-convert:hover {\n",
              "      background-color: #434B5C;\n",
              "      box-shadow: 0px 1px 3px 1px rgba(0, 0, 0, 0.15);\n",
              "      filter: drop-shadow(0px 1px 2px rgba(0, 0, 0, 0.3));\n",
              "      fill: #FFFFFF;\n",
              "    }\n",
              "  </style>\n",
              "\n",
              "      <script>\n",
              "        const buttonEl =\n",
              "          document.querySelector('#df-b444685a-c895-4de9-abe3-1791f93a1b39 button.colab-df-convert');\n",
              "        buttonEl.style.display =\n",
              "          google.colab.kernel.accessAllowed ? 'block' : 'none';\n",
              "\n",
              "        async function convertToInteractive(key) {\n",
              "          const element = document.querySelector('#df-b444685a-c895-4de9-abe3-1791f93a1b39');\n",
              "          const dataTable =\n",
              "            await google.colab.kernel.invokeFunction('convertToInteractive',\n",
              "                                                     [key], {});\n",
              "          if (!dataTable) return;\n",
              "\n",
              "          const docLinkHtml = 'Like what you see? Visit the ' +\n",
              "            '<a target=\"_blank\" href=https://colab.research.google.com/notebooks/data_table.ipynb>data table notebook</a>'\n",
              "            + ' to learn more about interactive tables.';\n",
              "          element.innerHTML = '';\n",
              "          dataTable['output_type'] = 'display_data';\n",
              "          await google.colab.output.renderOutput(dataTable, element);\n",
              "          const docLink = document.createElement('div');\n",
              "          docLink.innerHTML = docLinkHtml;\n",
              "          element.appendChild(docLink);\n",
              "        }\n",
              "      </script>\n",
              "    </div>\n",
              "  </div>\n",
              "  "
            ]
          },
          "metadata": {},
          "execution_count": 4
        }
      ],
      "source": [
        "test.head()"
      ]
    },
    {
      "cell_type": "markdown",
      "source": [
        "now we know that we have eleven columns in train dataframe and ten columns in train dataframe.\n",
        "\n",
        "in train dataframe three colomns is categorical data and eight columns is numerical data.\n",
        "\n",
        "in test dataframe three columns is categorical data and seven columns is numerical data. "
      ],
      "metadata": {
        "id": "oGdLBoleW79X"
      }
    },
    {
      "cell_type": "markdown",
      "source": [
        "### Get a quick description of the data Using the info() method "
      ],
      "metadata": {
        "id": "Xj5wTZwxX3IG"
      }
    },
    {
      "cell_type": "code",
      "execution_count": null,
      "metadata": {
        "colab": {
          "base_uri": "https://localhost:8080/"
        },
        "id": "AY5jS7oNs-Fh",
        "outputId": "2510c773-bb22-4394-a453-18cc6b2d50b7"
      },
      "outputs": [
        {
          "output_type": "stream",
          "name": "stdout",
          "text": [
            "<class 'pandas.core.frame.DataFrame'>\n",
            "RangeIndex: 43152 entries, 0 to 43151\n",
            "Data columns (total 11 columns):\n",
            " #   Column   Non-Null Count  Dtype  \n",
            "---  ------   --------------  -----  \n",
            " 0   Id       43152 non-null  int64  \n",
            " 1   carat    43152 non-null  float64\n",
            " 2   cut      43152 non-null  object \n",
            " 3   color    43152 non-null  object \n",
            " 4   clarity  43152 non-null  object \n",
            " 5   depth    43152 non-null  float64\n",
            " 6   table    43152 non-null  float64\n",
            " 7   price    43152 non-null  int64  \n",
            " 8   x        43152 non-null  float64\n",
            " 9   y        43152 non-null  float64\n",
            " 10  z        43152 non-null  float64\n",
            "dtypes: float64(6), int64(2), object(3)\n",
            "memory usage: 3.6+ MB\n"
          ]
        }
      ],
      "source": [
        "train.info()"
      ]
    },
    {
      "cell_type": "code",
      "execution_count": null,
      "metadata": {
        "colab": {
          "base_uri": "https://localhost:8080/"
        },
        "id": "JCzqUkRc_SrH",
        "outputId": "fdb77581-3da1-42f1-858b-0df1b9a82552"
      },
      "outputs": [
        {
          "output_type": "stream",
          "name": "stdout",
          "text": [
            "<class 'pandas.core.frame.DataFrame'>\n",
            "RangeIndex: 10788 entries, 0 to 10787\n",
            "Data columns (total 10 columns):\n",
            " #   Column   Non-Null Count  Dtype  \n",
            "---  ------   --------------  -----  \n",
            " 0   Id       10788 non-null  int64  \n",
            " 1   carat    10788 non-null  float64\n",
            " 2   cut      10788 non-null  object \n",
            " 3   color    10788 non-null  object \n",
            " 4   clarity  10788 non-null  object \n",
            " 5   depth    10788 non-null  float64\n",
            " 6   table    10788 non-null  float64\n",
            " 7   x        10788 non-null  float64\n",
            " 8   y        10788 non-null  float64\n",
            " 9   z        10788 non-null  float64\n",
            "dtypes: float64(6), int64(1), object(3)\n",
            "memory usage: 842.9+ KB\n"
          ]
        }
      ],
      "source": [
        "test.info()"
      ]
    },
    {
      "cell_type": "markdown",
      "source": [
        "No null values in train and test data"
      ],
      "metadata": {
        "id": "BPkdrip7bWEP"
      }
    },
    {
      "cell_type": "markdown",
      "source": [
        "### Looking at the summary of the numerical attributes . Using the describe() method"
      ],
      "metadata": {
        "id": "nysfdrN6IldY"
      }
    },
    {
      "cell_type": "code",
      "source": [
        "train.describe()"
      ],
      "metadata": {
        "id": "Xhuw_uwZHyLJ",
        "colab": {
          "base_uri": "https://localhost:8080/",
          "height": 300
        },
        "outputId": "dd80c43c-6396-4b0a-d619-415efb785ea6"
      },
      "execution_count": null,
      "outputs": [
        {
          "output_type": "execute_result",
          "data": {
            "text/plain": [
              "                 Id         carat         depth         table         price  \\\n",
              "count  43152.000000  43152.000000  43152.000000  43152.000000  43152.000000   \n",
              "mean   21576.500000      0.797855     61.747177     57.458347   3929.491912   \n",
              "std    12457.053745      0.473594      1.435454      2.233904   3985.527795   \n",
              "min        1.000000      0.200000     43.000000     43.000000    326.000000   \n",
              "25%    10788.750000      0.400000     61.000000     56.000000    947.750000   \n",
              "50%    21576.500000      0.700000     61.800000     57.000000   2401.000000   \n",
              "75%    32364.250000      1.040000     62.500000     59.000000   5312.000000   \n",
              "max    43152.000000      5.010000     79.000000     95.000000  18823.000000   \n",
              "\n",
              "                  x             y             z  \n",
              "count  43152.000000  43152.000000  43152.000000  \n",
              "mean       5.731568      5.735018      3.538568  \n",
              "std        1.121279      1.148809      0.708238  \n",
              "min        0.000000      0.000000      0.000000  \n",
              "25%        4.710000      4.720000      2.910000  \n",
              "50%        5.700000      5.710000      3.530000  \n",
              "75%        6.540000      6.540000      4.040000  \n",
              "max       10.740000     58.900000     31.800000  "
            ],
            "text/html": [
              "\n",
              "  <div id=\"df-8fbc1a45-ea45-4e96-a794-6fd6babc25b2\">\n",
              "    <div class=\"colab-df-container\">\n",
              "      <div>\n",
              "<style scoped>\n",
              "    .dataframe tbody tr th:only-of-type {\n",
              "        vertical-align: middle;\n",
              "    }\n",
              "\n",
              "    .dataframe tbody tr th {\n",
              "        vertical-align: top;\n",
              "    }\n",
              "\n",
              "    .dataframe thead th {\n",
              "        text-align: right;\n",
              "    }\n",
              "</style>\n",
              "<table border=\"1\" class=\"dataframe\">\n",
              "  <thead>\n",
              "    <tr style=\"text-align: right;\">\n",
              "      <th></th>\n",
              "      <th>Id</th>\n",
              "      <th>carat</th>\n",
              "      <th>depth</th>\n",
              "      <th>table</th>\n",
              "      <th>price</th>\n",
              "      <th>x</th>\n",
              "      <th>y</th>\n",
              "      <th>z</th>\n",
              "    </tr>\n",
              "  </thead>\n",
              "  <tbody>\n",
              "    <tr>\n",
              "      <th>count</th>\n",
              "      <td>43152.000000</td>\n",
              "      <td>43152.000000</td>\n",
              "      <td>43152.000000</td>\n",
              "      <td>43152.000000</td>\n",
              "      <td>43152.000000</td>\n",
              "      <td>43152.000000</td>\n",
              "      <td>43152.000000</td>\n",
              "      <td>43152.000000</td>\n",
              "    </tr>\n",
              "    <tr>\n",
              "      <th>mean</th>\n",
              "      <td>21576.500000</td>\n",
              "      <td>0.797855</td>\n",
              "      <td>61.747177</td>\n",
              "      <td>57.458347</td>\n",
              "      <td>3929.491912</td>\n",
              "      <td>5.731568</td>\n",
              "      <td>5.735018</td>\n",
              "      <td>3.538568</td>\n",
              "    </tr>\n",
              "    <tr>\n",
              "      <th>std</th>\n",
              "      <td>12457.053745</td>\n",
              "      <td>0.473594</td>\n",
              "      <td>1.435454</td>\n",
              "      <td>2.233904</td>\n",
              "      <td>3985.527795</td>\n",
              "      <td>1.121279</td>\n",
              "      <td>1.148809</td>\n",
              "      <td>0.708238</td>\n",
              "    </tr>\n",
              "    <tr>\n",
              "      <th>min</th>\n",
              "      <td>1.000000</td>\n",
              "      <td>0.200000</td>\n",
              "      <td>43.000000</td>\n",
              "      <td>43.000000</td>\n",
              "      <td>326.000000</td>\n",
              "      <td>0.000000</td>\n",
              "      <td>0.000000</td>\n",
              "      <td>0.000000</td>\n",
              "    </tr>\n",
              "    <tr>\n",
              "      <th>25%</th>\n",
              "      <td>10788.750000</td>\n",
              "      <td>0.400000</td>\n",
              "      <td>61.000000</td>\n",
              "      <td>56.000000</td>\n",
              "      <td>947.750000</td>\n",
              "      <td>4.710000</td>\n",
              "      <td>4.720000</td>\n",
              "      <td>2.910000</td>\n",
              "    </tr>\n",
              "    <tr>\n",
              "      <th>50%</th>\n",
              "      <td>21576.500000</td>\n",
              "      <td>0.700000</td>\n",
              "      <td>61.800000</td>\n",
              "      <td>57.000000</td>\n",
              "      <td>2401.000000</td>\n",
              "      <td>5.700000</td>\n",
              "      <td>5.710000</td>\n",
              "      <td>3.530000</td>\n",
              "    </tr>\n",
              "    <tr>\n",
              "      <th>75%</th>\n",
              "      <td>32364.250000</td>\n",
              "      <td>1.040000</td>\n",
              "      <td>62.500000</td>\n",
              "      <td>59.000000</td>\n",
              "      <td>5312.000000</td>\n",
              "      <td>6.540000</td>\n",
              "      <td>6.540000</td>\n",
              "      <td>4.040000</td>\n",
              "    </tr>\n",
              "    <tr>\n",
              "      <th>max</th>\n",
              "      <td>43152.000000</td>\n",
              "      <td>5.010000</td>\n",
              "      <td>79.000000</td>\n",
              "      <td>95.000000</td>\n",
              "      <td>18823.000000</td>\n",
              "      <td>10.740000</td>\n",
              "      <td>58.900000</td>\n",
              "      <td>31.800000</td>\n",
              "    </tr>\n",
              "  </tbody>\n",
              "</table>\n",
              "</div>\n",
              "      <button class=\"colab-df-convert\" onclick=\"convertToInteractive('df-8fbc1a45-ea45-4e96-a794-6fd6babc25b2')\"\n",
              "              title=\"Convert this dataframe to an interactive table.\"\n",
              "              style=\"display:none;\">\n",
              "        \n",
              "  <svg xmlns=\"http://www.w3.org/2000/svg\" height=\"24px\"viewBox=\"0 0 24 24\"\n",
              "       width=\"24px\">\n",
              "    <path d=\"M0 0h24v24H0V0z\" fill=\"none\"/>\n",
              "    <path d=\"M18.56 5.44l.94 2.06.94-2.06 2.06-.94-2.06-.94-.94-2.06-.94 2.06-2.06.94zm-11 1L8.5 8.5l.94-2.06 2.06-.94-2.06-.94L8.5 2.5l-.94 2.06-2.06.94zm10 10l.94 2.06.94-2.06 2.06-.94-2.06-.94-.94-2.06-.94 2.06-2.06.94z\"/><path d=\"M17.41 7.96l-1.37-1.37c-.4-.4-.92-.59-1.43-.59-.52 0-1.04.2-1.43.59L10.3 9.45l-7.72 7.72c-.78.78-.78 2.05 0 2.83L4 21.41c.39.39.9.59 1.41.59.51 0 1.02-.2 1.41-.59l7.78-7.78 2.81-2.81c.8-.78.8-2.07 0-2.86zM5.41 20L4 18.59l7.72-7.72 1.47 1.35L5.41 20z\"/>\n",
              "  </svg>\n",
              "      </button>\n",
              "      \n",
              "  <style>\n",
              "    .colab-df-container {\n",
              "      display:flex;\n",
              "      flex-wrap:wrap;\n",
              "      gap: 12px;\n",
              "    }\n",
              "\n",
              "    .colab-df-convert {\n",
              "      background-color: #E8F0FE;\n",
              "      border: none;\n",
              "      border-radius: 50%;\n",
              "      cursor: pointer;\n",
              "      display: none;\n",
              "      fill: #1967D2;\n",
              "      height: 32px;\n",
              "      padding: 0 0 0 0;\n",
              "      width: 32px;\n",
              "    }\n",
              "\n",
              "    .colab-df-convert:hover {\n",
              "      background-color: #E2EBFA;\n",
              "      box-shadow: 0px 1px 2px rgba(60, 64, 67, 0.3), 0px 1px 3px 1px rgba(60, 64, 67, 0.15);\n",
              "      fill: #174EA6;\n",
              "    }\n",
              "\n",
              "    [theme=dark] .colab-df-convert {\n",
              "      background-color: #3B4455;\n",
              "      fill: #D2E3FC;\n",
              "    }\n",
              "\n",
              "    [theme=dark] .colab-df-convert:hover {\n",
              "      background-color: #434B5C;\n",
              "      box-shadow: 0px 1px 3px 1px rgba(0, 0, 0, 0.15);\n",
              "      filter: drop-shadow(0px 1px 2px rgba(0, 0, 0, 0.3));\n",
              "      fill: #FFFFFF;\n",
              "    }\n",
              "  </style>\n",
              "\n",
              "      <script>\n",
              "        const buttonEl =\n",
              "          document.querySelector('#df-8fbc1a45-ea45-4e96-a794-6fd6babc25b2 button.colab-df-convert');\n",
              "        buttonEl.style.display =\n",
              "          google.colab.kernel.accessAllowed ? 'block' : 'none';\n",
              "\n",
              "        async function convertToInteractive(key) {\n",
              "          const element = document.querySelector('#df-8fbc1a45-ea45-4e96-a794-6fd6babc25b2');\n",
              "          const dataTable =\n",
              "            await google.colab.kernel.invokeFunction('convertToInteractive',\n",
              "                                                     [key], {});\n",
              "          if (!dataTable) return;\n",
              "\n",
              "          const docLinkHtml = 'Like what you see? Visit the ' +\n",
              "            '<a target=\"_blank\" href=https://colab.research.google.com/notebooks/data_table.ipynb>data table notebook</a>'\n",
              "            + ' to learn more about interactive tables.';\n",
              "          element.innerHTML = '';\n",
              "          dataTable['output_type'] = 'display_data';\n",
              "          await google.colab.output.renderOutput(dataTable, element);\n",
              "          const docLink = document.createElement('div');\n",
              "          docLink.innerHTML = docLinkHtml;\n",
              "          element.appendChild(docLink);\n",
              "        }\n",
              "      </script>\n",
              "    </div>\n",
              "  </div>\n",
              "  "
            ]
          },
          "metadata": {},
          "execution_count": 7
        }
      ]
    },
    {
      "cell_type": "code",
      "source": [
        "test.describe()"
      ],
      "metadata": {
        "id": "9UbrzgyvHzZg",
        "colab": {
          "base_uri": "https://localhost:8080/",
          "height": 300
        },
        "outputId": "5a445fdb-e16b-4355-f427-a389053ff479"
      },
      "execution_count": null,
      "outputs": [
        {
          "output_type": "execute_result",
          "data": {
            "text/plain": [
              "                 Id         carat         depth         table             x  \\\n",
              "count  10788.000000  10788.000000  10788.000000  10788.000000  10788.000000   \n",
              "mean    5394.500000      0.798279     61.758315     57.452531      5.729514   \n",
              "std     3114.371686      0.475700      1.421266      2.236933      1.123736   \n",
              "min        1.000000      0.200000     54.000000     50.000000      0.000000   \n",
              "25%     2697.750000      0.400000     61.100000     56.000000      4.720000   \n",
              "50%     5394.500000      0.700000     61.800000     57.000000      5.700000   \n",
              "75%     8091.250000      1.040000     62.500000     59.000000      6.540000   \n",
              "max    10788.000000      4.500000     79.000000     73.000000     10.230000   \n",
              "\n",
              "                  y             z  \n",
              "count  10788.000000  10788.000000  \n",
              "mean       5.732559      3.539398  \n",
              "std        1.115090      0.695483  \n",
              "min        0.000000      0.000000  \n",
              "25%        4.727500      2.910000  \n",
              "50%        5.710000      3.520000  \n",
              "75%        6.540000      4.030000  \n",
              "max       10.160000      6.720000  "
            ],
            "text/html": [
              "\n",
              "  <div id=\"df-5e58b9ab-ff9f-4bbd-91b4-00eec033b8a9\">\n",
              "    <div class=\"colab-df-container\">\n",
              "      <div>\n",
              "<style scoped>\n",
              "    .dataframe tbody tr th:only-of-type {\n",
              "        vertical-align: middle;\n",
              "    }\n",
              "\n",
              "    .dataframe tbody tr th {\n",
              "        vertical-align: top;\n",
              "    }\n",
              "\n",
              "    .dataframe thead th {\n",
              "        text-align: right;\n",
              "    }\n",
              "</style>\n",
              "<table border=\"1\" class=\"dataframe\">\n",
              "  <thead>\n",
              "    <tr style=\"text-align: right;\">\n",
              "      <th></th>\n",
              "      <th>Id</th>\n",
              "      <th>carat</th>\n",
              "      <th>depth</th>\n",
              "      <th>table</th>\n",
              "      <th>x</th>\n",
              "      <th>y</th>\n",
              "      <th>z</th>\n",
              "    </tr>\n",
              "  </thead>\n",
              "  <tbody>\n",
              "    <tr>\n",
              "      <th>count</th>\n",
              "      <td>10788.000000</td>\n",
              "      <td>10788.000000</td>\n",
              "      <td>10788.000000</td>\n",
              "      <td>10788.000000</td>\n",
              "      <td>10788.000000</td>\n",
              "      <td>10788.000000</td>\n",
              "      <td>10788.000000</td>\n",
              "    </tr>\n",
              "    <tr>\n",
              "      <th>mean</th>\n",
              "      <td>5394.500000</td>\n",
              "      <td>0.798279</td>\n",
              "      <td>61.758315</td>\n",
              "      <td>57.452531</td>\n",
              "      <td>5.729514</td>\n",
              "      <td>5.732559</td>\n",
              "      <td>3.539398</td>\n",
              "    </tr>\n",
              "    <tr>\n",
              "      <th>std</th>\n",
              "      <td>3114.371686</td>\n",
              "      <td>0.475700</td>\n",
              "      <td>1.421266</td>\n",
              "      <td>2.236933</td>\n",
              "      <td>1.123736</td>\n",
              "      <td>1.115090</td>\n",
              "      <td>0.695483</td>\n",
              "    </tr>\n",
              "    <tr>\n",
              "      <th>min</th>\n",
              "      <td>1.000000</td>\n",
              "      <td>0.200000</td>\n",
              "      <td>54.000000</td>\n",
              "      <td>50.000000</td>\n",
              "      <td>0.000000</td>\n",
              "      <td>0.000000</td>\n",
              "      <td>0.000000</td>\n",
              "    </tr>\n",
              "    <tr>\n",
              "      <th>25%</th>\n",
              "      <td>2697.750000</td>\n",
              "      <td>0.400000</td>\n",
              "      <td>61.100000</td>\n",
              "      <td>56.000000</td>\n",
              "      <td>4.720000</td>\n",
              "      <td>4.727500</td>\n",
              "      <td>2.910000</td>\n",
              "    </tr>\n",
              "    <tr>\n",
              "      <th>50%</th>\n",
              "      <td>5394.500000</td>\n",
              "      <td>0.700000</td>\n",
              "      <td>61.800000</td>\n",
              "      <td>57.000000</td>\n",
              "      <td>5.700000</td>\n",
              "      <td>5.710000</td>\n",
              "      <td>3.520000</td>\n",
              "    </tr>\n",
              "    <tr>\n",
              "      <th>75%</th>\n",
              "      <td>8091.250000</td>\n",
              "      <td>1.040000</td>\n",
              "      <td>62.500000</td>\n",
              "      <td>59.000000</td>\n",
              "      <td>6.540000</td>\n",
              "      <td>6.540000</td>\n",
              "      <td>4.030000</td>\n",
              "    </tr>\n",
              "    <tr>\n",
              "      <th>max</th>\n",
              "      <td>10788.000000</td>\n",
              "      <td>4.500000</td>\n",
              "      <td>79.000000</td>\n",
              "      <td>73.000000</td>\n",
              "      <td>10.230000</td>\n",
              "      <td>10.160000</td>\n",
              "      <td>6.720000</td>\n",
              "    </tr>\n",
              "  </tbody>\n",
              "</table>\n",
              "</div>\n",
              "      <button class=\"colab-df-convert\" onclick=\"convertToInteractive('df-5e58b9ab-ff9f-4bbd-91b4-00eec033b8a9')\"\n",
              "              title=\"Convert this dataframe to an interactive table.\"\n",
              "              style=\"display:none;\">\n",
              "        \n",
              "  <svg xmlns=\"http://www.w3.org/2000/svg\" height=\"24px\"viewBox=\"0 0 24 24\"\n",
              "       width=\"24px\">\n",
              "    <path d=\"M0 0h24v24H0V0z\" fill=\"none\"/>\n",
              "    <path d=\"M18.56 5.44l.94 2.06.94-2.06 2.06-.94-2.06-.94-.94-2.06-.94 2.06-2.06.94zm-11 1L8.5 8.5l.94-2.06 2.06-.94-2.06-.94L8.5 2.5l-.94 2.06-2.06.94zm10 10l.94 2.06.94-2.06 2.06-.94-2.06-.94-.94-2.06-.94 2.06-2.06.94z\"/><path d=\"M17.41 7.96l-1.37-1.37c-.4-.4-.92-.59-1.43-.59-.52 0-1.04.2-1.43.59L10.3 9.45l-7.72 7.72c-.78.78-.78 2.05 0 2.83L4 21.41c.39.39.9.59 1.41.59.51 0 1.02-.2 1.41-.59l7.78-7.78 2.81-2.81c.8-.78.8-2.07 0-2.86zM5.41 20L4 18.59l7.72-7.72 1.47 1.35L5.41 20z\"/>\n",
              "  </svg>\n",
              "      </button>\n",
              "      \n",
              "  <style>\n",
              "    .colab-df-container {\n",
              "      display:flex;\n",
              "      flex-wrap:wrap;\n",
              "      gap: 12px;\n",
              "    }\n",
              "\n",
              "    .colab-df-convert {\n",
              "      background-color: #E8F0FE;\n",
              "      border: none;\n",
              "      border-radius: 50%;\n",
              "      cursor: pointer;\n",
              "      display: none;\n",
              "      fill: #1967D2;\n",
              "      height: 32px;\n",
              "      padding: 0 0 0 0;\n",
              "      width: 32px;\n",
              "    }\n",
              "\n",
              "    .colab-df-convert:hover {\n",
              "      background-color: #E2EBFA;\n",
              "      box-shadow: 0px 1px 2px rgba(60, 64, 67, 0.3), 0px 1px 3px 1px rgba(60, 64, 67, 0.15);\n",
              "      fill: #174EA6;\n",
              "    }\n",
              "\n",
              "    [theme=dark] .colab-df-convert {\n",
              "      background-color: #3B4455;\n",
              "      fill: #D2E3FC;\n",
              "    }\n",
              "\n",
              "    [theme=dark] .colab-df-convert:hover {\n",
              "      background-color: #434B5C;\n",
              "      box-shadow: 0px 1px 3px 1px rgba(0, 0, 0, 0.15);\n",
              "      filter: drop-shadow(0px 1px 2px rgba(0, 0, 0, 0.3));\n",
              "      fill: #FFFFFF;\n",
              "    }\n",
              "  </style>\n",
              "\n",
              "      <script>\n",
              "        const buttonEl =\n",
              "          document.querySelector('#df-5e58b9ab-ff9f-4bbd-91b4-00eec033b8a9 button.colab-df-convert');\n",
              "        buttonEl.style.display =\n",
              "          google.colab.kernel.accessAllowed ? 'block' : 'none';\n",
              "\n",
              "        async function convertToInteractive(key) {\n",
              "          const element = document.querySelector('#df-5e58b9ab-ff9f-4bbd-91b4-00eec033b8a9');\n",
              "          const dataTable =\n",
              "            await google.colab.kernel.invokeFunction('convertToInteractive',\n",
              "                                                     [key], {});\n",
              "          if (!dataTable) return;\n",
              "\n",
              "          const docLinkHtml = 'Like what you see? Visit the ' +\n",
              "            '<a target=\"_blank\" href=https://colab.research.google.com/notebooks/data_table.ipynb>data table notebook</a>'\n",
              "            + ' to learn more about interactive tables.';\n",
              "          element.innerHTML = '';\n",
              "          dataTable['output_type'] = 'display_data';\n",
              "          await google.colab.output.renderOutput(dataTable, element);\n",
              "          const docLink = document.createElement('div');\n",
              "          docLink.innerHTML = docLinkHtml;\n",
              "          element.appendChild(docLink);\n",
              "        }\n",
              "      </script>\n",
              "    </div>\n",
              "  </div>\n",
              "  "
            ]
          },
          "metadata": {},
          "execution_count": 8
        }
      ]
    },
    {
      "cell_type": "markdown",
      "source": [
        "### Show how many districts belong to each category by using the value_counts() method."
      ],
      "metadata": {
        "id": "kg1mnL-mHRzJ"
      }
    },
    {
      "cell_type": "code",
      "execution_count": null,
      "metadata": {
        "id": "aIG-B5xjtB0f",
        "colab": {
          "base_uri": "https://localhost:8080/"
        },
        "outputId": "fd4c46dd-61c7-4281-a9aa-be797a2e9f64"
      },
      "outputs": [
        {
          "output_type": "execute_result",
          "data": {
            "text/plain": [
              "Ideal        17203\n",
              "Premium      11113\n",
              "Very Good     9658\n",
              "Good          3881\n",
              "Fair          1297\n",
              "Name: cut, dtype: int64"
            ]
          },
          "metadata": {},
          "execution_count": 9
        }
      ],
      "source": [
        "train['cut'].value_counts()"
      ]
    },
    {
      "cell_type": "code",
      "execution_count": null,
      "metadata": {
        "colab": {
          "base_uri": "https://localhost:8080/"
        },
        "id": "y02bzvGQvrKJ",
        "outputId": "1172e491-3fef-4d53-b5ee-aeaac5882d47"
      },
      "outputs": [
        {
          "output_type": "execute_result",
          "data": {
            "text/plain": [
              "G    9060\n",
              "E    7832\n",
              "F    7633\n",
              "H    6651\n",
              "D    5421\n",
              "I    4265\n",
              "J    2290\n",
              "Name: color, dtype: int64"
            ]
          },
          "metadata": {},
          "execution_count": 10
        }
      ],
      "source": [
        "train['color'].value_counts()"
      ]
    },
    {
      "cell_type": "code",
      "execution_count": null,
      "metadata": {
        "colab": {
          "base_uri": "https://localhost:8080/"
        },
        "id": "Kvmj8jrEwJv4",
        "outputId": "af33cf6a-bc73-4643-c303-dbaf32a7506d"
      },
      "outputs": [
        {
          "output_type": "execute_result",
          "data": {
            "text/plain": [
              "SI1     10428\n",
              "VS2      9824\n",
              "SI2      7432\n",
              "VS1      6475\n",
              "VVS2     4041\n",
              "VVS1     2904\n",
              "IF       1442\n",
              "I1        606\n",
              "Name: clarity, dtype: int64"
            ]
          },
          "metadata": {},
          "execution_count": 11
        }
      ],
      "source": [
        "train['clarity'].value_counts()"
      ]
    },
    {
      "cell_type": "markdown",
      "source": [
        "## B- Data visualization"
      ],
      "metadata": {
        "id": "4i0UjajvI7HS"
      }
    },
    {
      "cell_type": "markdown",
      "source": [
        "Creating a hist plot for train dataframe."
      ],
      "metadata": {
        "id": "cCwGN77UJSNB"
      }
    },
    {
      "cell_type": "code",
      "execution_count": null,
      "metadata": {
        "colab": {
          "base_uri": "https://localhost:8080/",
          "height": 878
        },
        "id": "gF5ISAaH1tkS",
        "outputId": "43882197-f76c-4761-8a35-f9ea3ecff332"
      },
      "outputs": [
        {
          "data": {
            "image/png": "[encoded data removed]",
            "text/plain": [
              "<Figure size 1440x1080 with 9 Axes>"
            ]
          },
          "metadata": {},
          "output_type": "display_data"
        }
      ],
      "source": [
        "train.hist(bins=50, figsize=(20,15))\n",
        "plt.show()"
      ]
    },
    {
      "cell_type": "markdown",
      "source": [
        "Explore correlation between all continuous numeric variables using .corr() method."
      ],
      "metadata": {
        "id": "4GH6IOlYJn9_"
      }
    },
    {
      "cell_type": "code",
      "execution_count": null,
      "metadata": {
        "id": "fmvyIn3VT64v"
      },
      "outputs": [],
      "source": [
        "daimond_corr=train.corr()\n",
        "daimond_corr"
      ]
    },
    {
      "cell_type": "markdown",
      "source": [
        "Use seaborn method to convert the correlation matrix to a heatmap plot."
      ],
      "metadata": {
        "id": "6gF6kO9YJzSA"
      }
    },
    {
      "cell_type": "code",
      "execution_count": null,
      "metadata": {
        "colab": {
          "base_uri": "https://localhost:8080/",
          "height": 560
        },
        "id": "3TaeXUVGV4Ku",
        "outputId": "ae146e0f-cc8b-4fb7-f4cb-b23eca4fb0de"
      },
      "outputs": [
        {
          "output_type": "execute_result",
          "data": {
            "text/plain": [
              "<matplotlib.axes._subplots.AxesSubplot at 0x7f5b262e88d0>"
            ]
          },
          "metadata": {},
          "execution_count": 4
        },
        {
          "output_type": "display_data",
          "data": {
            "text/plain": [
              "<Figure size 864x648 with 2 Axes>"
            ],
            "image/png": "[encoded data removed]"
          },
          "metadata": {
            "needs_background": "light"
          }
        }
      ],
      "source": [
        "plt.figure(figsize=(12,9))\n",
        "sns.heatmap(train.corr(), annot=True, cmap='viridis')"
      ]
    },
    {
      "cell_type": "code",
      "execution_count": null,
      "metadata": {
        "colab": {
          "base_uri": "https://localhost:8080/"
        },
        "id": "ksHCA5p2Wkvf",
        "outputId": "22456e89-c216-4e22-c41b-23bee8e25ea8"
      },
      "outputs": [
        {
          "output_type": "execute_result",
          "data": {
            "text/plain": [
              "Id      -0.001111\n",
              "carat    0.921911\n",
              "depth   -0.013137\n",
              "table    0.128501\n",
              "price    1.000000\n",
              "x        0.885181\n",
              "y        0.861354\n",
              "z        0.857665\n",
              "Name: price, dtype: float64"
            ]
          },
          "metadata": {},
          "execution_count": 108
        }
      ],
      "source": [
        "daimond_corr['price']"
      ]
    },
    {
      "cell_type": "markdown",
      "source": [
        "There are stronge liner correlation between price and carat, price and x, price and y, price and z."
      ],
      "metadata": {
        "id": "nj1SpOkT4c0B"
      }
    },
    {
      "cell_type": "code",
      "execution_count": null,
      "metadata": {
        "colab": {
          "base_uri": "https://localhost:8080/",
          "height": 1000
        },
        "id": "9U0YECnek7Z_",
        "outputId": "2243abc8-d3fa-41e3-8ef1-974f0974f9b1"
      },
      "outputs": [
        {
          "output_type": "execute_result",
          "data": {
            "text/plain": [
              "array([[<matplotlib.axes._subplots.AxesSubplot object at 0x7fb36816b890>,\n",
              "        <matplotlib.axes._subplots.AxesSubplot object at 0x7fb3684911d0>,\n",
              "        <matplotlib.axes._subplots.AxesSubplot object at 0x7fb368138ad0>,\n",
              "        <matplotlib.axes._subplots.AxesSubplot object at 0x7fb3680f9110>,\n",
              "        <matplotlib.axes._subplots.AxesSubplot object at 0x7fb3680b0710>,\n",
              "        <matplotlib.axes._subplots.AxesSubplot object at 0x7fb3680624d0>,\n",
              "        <matplotlib.axes._subplots.AxesSubplot object at 0x7fb36802b910>],\n",
              "       [<matplotlib.axes._subplots.AxesSubplot object at 0x7fb367fda110>,\n",
              "        <matplotlib.axes._subplots.AxesSubplot object at 0x7fb367ffb390>,\n",
              "        <matplotlib.axes._subplots.AxesSubplot object at 0x7fb367fb1a10>,\n",
              "        <matplotlib.axes._subplots.AxesSubplot object at 0x7fb367f12510>,\n",
              "        <matplotlib.axes._subplots.AxesSubplot object at 0x7fb367ed5790>,\n",
              "        <matplotlib.axes._subplots.AxesSubplot object at 0x7fb367f0ca90>,\n",
              "        <matplotlib.axes._subplots.AxesSubplot object at 0x7fb367e4f0d0>],\n",
              "       [<matplotlib.axes._subplots.AxesSubplot object at 0x7fb367e886d0>,\n",
              "        <matplotlib.axes._subplots.AxesSubplot object at 0x7fb367e45390>,\n",
              "        <matplotlib.axes._subplots.AxesSubplot object at 0x7fb367e04bd0>,\n",
              "        <matplotlib.axes._subplots.AxesSubplot object at 0x7fb367db32d0>,\n",
              "        <matplotlib.axes._subplots.AxesSubplot object at 0x7fb367d762d0>,\n",
              "        <matplotlib.axes._subplots.AxesSubplot object at 0x7fb367d35b10>,\n",
              "        <matplotlib.axes._subplots.AxesSubplot object at 0x7fb3687cb150>],\n",
              "       [<matplotlib.axes._subplots.AxesSubplot object at 0x7fb3685d0d90>,\n",
              "        <matplotlib.axes._subplots.AxesSubplot object at 0x7fb368504b90>,\n",
              "        <matplotlib.axes._subplots.AxesSubplot object at 0x7fb368051510>,\n",
              "        <matplotlib.axes._subplots.AxesSubplot object at 0x7fb367ef8b90>,\n",
              "        <matplotlib.axes._subplots.AxesSubplot object at 0x7fb367be62d0>,\n",
              "        <matplotlib.axes._subplots.AxesSubplot object at 0x7fb367ba73d0>,\n",
              "        <matplotlib.axes._subplots.AxesSubplot object at 0x7fb367b5e9d0>],\n",
              "       [<matplotlib.axes._subplots.AxesSubplot object at 0x7fb367b17510>,\n",
              "        <matplotlib.axes._subplots.AxesSubplot object at 0x7fb367ada610>,\n",
              "        <matplotlib.axes._subplots.AxesSubplot object at 0x7fb367a90150>,\n",
              "        <matplotlib.axes._subplots.AxesSubplot object at 0x7fb367a52250>,\n",
              "        <matplotlib.axes._subplots.AxesSubplot object at 0x7fb367a1dfd0>,\n",
              "        <matplotlib.axes._subplots.AxesSubplot object at 0x7fb367a44390>,\n",
              "        <matplotlib.axes._subplots.AxesSubplot object at 0x7fb367a06490>],\n",
              "       [<matplotlib.axes._subplots.AxesSubplot object at 0x7fb3679bea90>,\n",
              "        <matplotlib.axes._subplots.AxesSubplot object at 0x7fb367979150>,\n",
              "        <matplotlib.axes._subplots.AxesSubplot object at 0x7fb36793ba90>,\n",
              "        <matplotlib.axes._subplots.AxesSubplot object at 0x7fb3678e9290>,\n",
              "        <matplotlib.axes._subplots.AxesSubplot object at 0x7fb3678ab390>,\n",
              "        <matplotlib.axes._subplots.AxesSubplot object at 0x7fb367862990>,\n",
              "        <matplotlib.axes._subplots.AxesSubplot object at 0x7fb36781c4d0>],\n",
              "       [<matplotlib.axes._subplots.AxesSubplot object at 0x7fb3677dd5d0>,\n",
              "        <matplotlib.axes._subplots.AxesSubplot object at 0x7fb367795110>,\n",
              "        <matplotlib.axes._subplots.AxesSubplot object at 0x7fb367758210>,\n",
              "        <matplotlib.axes._subplots.AxesSubplot object at 0x7fb367717b50>,\n",
              "        <matplotlib.axes._subplots.AxesSubplot object at 0x7fb367747350>,\n",
              "        <matplotlib.axes._subplots.AxesSubplot object at 0x7fb367709450>,\n",
              "        <matplotlib.axes._subplots.AxesSubplot object at 0x7fb3676bfa50>]],\n",
              "      dtype=object)"
            ]
          },
          "metadata": {},
          "execution_count": 22
        },
        {
          "output_type": "display_data",
          "data": {
            "text/plain": [
              "<Figure size 1224x1080 with 49 Axes>"
            ],
            "image/png": "[encoded data removed]"
          },
          "metadata": {
            "needs_background": "light"
          }
        }
      ],
      "source": [
        "from pandas.plotting import scatter_matrix\n",
        "attributes = [\"price\", \"carat\", \"depth\", 'table','x','y','z']\n",
        "# CODE HERE\n",
        "scatter_matrix(train[attributes], figsize=(17,15))"
      ]
    },
    {
      "cell_type": "markdown",
      "source": [
        "---\n",
        "\n",
        "# 3- Prepare the data.\n",
        "\n",
        "---\n",
        "\n",
        "\n"
      ],
      "metadata": {
        "id": "JrP8Mz-tDYqU"
      }
    },
    {
      "cell_type": "markdown",
      "source": [
        "## A- Data Cleaning"
      ],
      "metadata": {
        "id": "okg2zqKxDjEv"
      }
    },
    {
      "cell_type": "markdown",
      "source": [
        "Display the count of null values in each culomn."
      ],
      "metadata": {
        "id": "fc_uCgPaDu7j"
      }
    },
    {
      "cell_type": "code",
      "execution_count": null,
      "metadata": {
        "colab": {
          "base_uri": "https://localhost:8080/"
        },
        "id": "U7CY45X2Sp10",
        "outputId": "2e22b561-06e9-4753-fa9b-8217a650c749"
      },
      "outputs": [
        {
          "output_type": "execute_result",
          "data": {
            "text/plain": [
              "Id         0\n",
              "carat      0\n",
              "cut        0\n",
              "color      0\n",
              "clarity    0\n",
              "depth      0\n",
              "table      0\n",
              "price      0\n",
              "x          0\n",
              "y          0\n",
              "z          0\n",
              "dtype: int64"
            ]
          },
          "metadata": {},
          "execution_count": 18
        }
      ],
      "source": [
        "train.isna().sum()"
      ]
    },
    {
      "cell_type": "markdown",
      "source": [
        "Great no null values in the data."
      ],
      "metadata": {
        "id": "xY5Yg_5_EiEG"
      }
    },
    {
      "cell_type": "markdown",
      "source": [
        "Check if there any zeros in dataframe."
      ],
      "metadata": {
        "id": "7zk7AD7tFT8z"
      }
    },
    {
      "cell_type": "code",
      "source": [
        "(train == 0).sum(axis=0)"
      ],
      "metadata": {
        "colab": {
          "base_uri": "https://localhost:8080/"
        },
        "id": "PfejFaxq37B_",
        "outputId": "40f8f717-97d4-4faf-94b8-ba1dc7f6cb96"
      },
      "execution_count": null,
      "outputs": [
        {
          "output_type": "execute_result",
          "data": {
            "text/plain": [
              "Id         0\n",
              "carat      0\n",
              "cut        0\n",
              "color      0\n",
              "clarity    0\n",
              "depth      0\n",
              "table      0\n",
              "price      0\n",
              "x          0\n",
              "y          0\n",
              "z          0\n",
              "dtype: int64"
            ]
          },
          "metadata": {},
          "execution_count": 19
        }
      ]
    },
    {
      "cell_type": "markdown",
      "source": [
        "Separate rows containing zero values in another dataframe"
      ],
      "metadata": {
        "id": "UfAodB4buJpR"
      }
    },
    {
      "cell_type": "code",
      "source": [
        "df_of_zeros=train[train['z']==0].sort_values('carat')"
      ],
      "metadata": {
        "id": "6YG2wLOlgvBO"
      },
      "execution_count": null,
      "outputs": []
    },
    {
      "cell_type": "markdown",
      "source": [
        "Create dataframe without zero values called train_no_zeros"
      ],
      "metadata": {
        "id": "yxBv9-9554Rg"
      }
    },
    {
      "cell_type": "code",
      "source": [
        "train_no_zeros=train[train['z']!=0]"
      ],
      "metadata": {
        "id": "vCGT3RiH4ilQ"
      },
      "execution_count": null,
      "outputs": []
    },
    {
      "cell_type": "code",
      "source": [
        "df_of_zeros"
      ],
      "metadata": {
        "colab": {
          "base_uri": "https://localhost:8080/",
          "height": 49
        },
        "id": "K50QRSAuKeUh",
        "outputId": "04969bd3-ee40-466b-889b-6b098bdb6f6e"
      },
      "execution_count": null,
      "outputs": [
        {
          "output_type": "execute_result",
          "data": {
            "text/plain": [
              "Empty DataFrame\n",
              "Columns: [Id, carat, cut, color, clarity, depth, table, price, x, y, z]\n",
              "Index: []"
            ],
            "text/html": [
              "\n",
              "  <div id=\"df-86bca89e-62e9-4b02-a22d-eac0875bf403\">\n",
              "    <div class=\"colab-df-container\">\n",
              "      <div>\n",
              "<style scoped>\n",
              "    .dataframe tbody tr th:only-of-type {\n",
              "        vertical-align: middle;\n",
              "    }\n",
              "\n",
              "    .dataframe tbody tr th {\n",
              "        vertical-align: top;\n",
              "    }\n",
              "\n",
              "    .dataframe thead th {\n",
              "        text-align: right;\n",
              "    }\n",
              "</style>\n",
              "<table border=\"1\" class=\"dataframe\">\n",
              "  <thead>\n",
              "    <tr style=\"text-align: right;\">\n",
              "      <th></th>\n",
              "      <th>Id</th>\n",
              "      <th>carat</th>\n",
              "      <th>cut</th>\n",
              "      <th>color</th>\n",
              "      <th>clarity</th>\n",
              "      <th>depth</th>\n",
              "      <th>table</th>\n",
              "      <th>price</th>\n",
              "      <th>x</th>\n",
              "      <th>y</th>\n",
              "      <th>z</th>\n",
              "    </tr>\n",
              "  </thead>\n",
              "  <tbody>\n",
              "  </tbody>\n",
              "</table>\n",
              "</div>\n",
              "      <button class=\"colab-df-convert\" onclick=\"convertToInteractive('df-86bca89e-62e9-4b02-a22d-eac0875bf403')\"\n",
              "              title=\"Convert this dataframe to an interactive table.\"\n",
              "              style=\"display:none;\">\n",
              "        \n",
              "  <svg xmlns=\"http://www.w3.org/2000/svg\" height=\"24px\"viewBox=\"0 0 24 24\"\n",
              "       width=\"24px\">\n",
              "    <path d=\"M0 0h24v24H0V0z\" fill=\"none\"/>\n",
              "    <path d=\"M18.56 5.44l.94 2.06.94-2.06 2.06-.94-2.06-.94-.94-2.06-.94 2.06-2.06.94zm-11 1L8.5 8.5l.94-2.06 2.06-.94-2.06-.94L8.5 2.5l-.94 2.06-2.06.94zm10 10l.94 2.06.94-2.06 2.06-.94-2.06-.94-.94-2.06-.94 2.06-2.06.94z\"/><path d=\"M17.41 7.96l-1.37-1.37c-.4-.4-.92-.59-1.43-.59-.52 0-1.04.2-1.43.59L10.3 9.45l-7.72 7.72c-.78.78-.78 2.05 0 2.83L4 21.41c.39.39.9.59 1.41.59.51 0 1.02-.2 1.41-.59l7.78-7.78 2.81-2.81c.8-.78.8-2.07 0-2.86zM5.41 20L4 18.59l7.72-7.72 1.47 1.35L5.41 20z\"/>\n",
              "  </svg>\n",
              "      </button>\n",
              "      \n",
              "  <style>\n",
              "    .colab-df-container {\n",
              "      display:flex;\n",
              "      flex-wrap:wrap;\n",
              "      gap: 12px;\n",
              "    }\n",
              "\n",
              "    .colab-df-convert {\n",
              "      background-color: #E8F0FE;\n",
              "      border: none;\n",
              "      border-radius: 50%;\n",
              "      cursor: pointer;\n",
              "      display: none;\n",
              "      fill: #1967D2;\n",
              "      height: 32px;\n",
              "      padding: 0 0 0 0;\n",
              "      width: 32px;\n",
              "    }\n",
              "\n",
              "    .colab-df-convert:hover {\n",
              "      background-color: #E2EBFA;\n",
              "      box-shadow: 0px 1px 2px rgba(60, 64, 67, 0.3), 0px 1px 3px 1px rgba(60, 64, 67, 0.15);\n",
              "      fill: #174EA6;\n",
              "    }\n",
              "\n",
              "    [theme=dark] .colab-df-convert {\n",
              "      background-color: #3B4455;\n",
              "      fill: #D2E3FC;\n",
              "    }\n",
              "\n",
              "    [theme=dark] .colab-df-convert:hover {\n",
              "      background-color: #434B5C;\n",
              "      box-shadow: 0px 1px 3px 1px rgba(0, 0, 0, 0.15);\n",
              "      filter: drop-shadow(0px 1px 2px rgba(0, 0, 0, 0.3));\n",
              "      fill: #FFFFFF;\n",
              "    }\n",
              "  </style>\n",
              "\n",
              "      <script>\n",
              "        const buttonEl =\n",
              "          document.querySelector('#df-86bca89e-62e9-4b02-a22d-eac0875bf403 button.colab-df-convert');\n",
              "        buttonEl.style.display =\n",
              "          google.colab.kernel.accessAllowed ? 'block' : 'none';\n",
              "\n",
              "        async function convertToInteractive(key) {\n",
              "          const element = document.querySelector('#df-86bca89e-62e9-4b02-a22d-eac0875bf403');\n",
              "          const dataTable =\n",
              "            await google.colab.kernel.invokeFunction('convertToInteractive',\n",
              "                                                     [key], {});\n",
              "          if (!dataTable) return;\n",
              "\n",
              "          const docLinkHtml = 'Like what you see? Visit the ' +\n",
              "            '<a target=\"_blank\" href=https://colab.research.google.com/notebooks/data_table.ipynb>data table notebook</a>'\n",
              "            + ' to learn more about interactive tables.';\n",
              "          element.innerHTML = '';\n",
              "          dataTable['output_type'] = 'display_data';\n",
              "          await google.colab.output.renderOutput(dataTable, element);\n",
              "          const docLink = document.createElement('div');\n",
              "          docLink.innerHTML = docLinkHtml;\n",
              "          element.appendChild(docLink);\n",
              "        }\n",
              "      </script>\n",
              "    </div>\n",
              "  </div>\n",
              "  "
            ]
          },
          "metadata": {},
          "execution_count": 22
        }
      ]
    },
    {
      "cell_type": "markdown",
      "source": [
        "Create three subdataframe from train datafrane contain the rows that carat atribute value in it between limits carat values in the zero values dataframe\n",
        "\n",
        "I divide the three dataframe using carat value into the dataframes:\n",
        "\n",
        "Dataframe 1 (train_m) : contain the rows with carat value greater than or equal to 0.71 and less than or equal to 1.50\n",
        "\n",
        "Dataframe 2 (train_n) : contain the rows with carat value greater than or equal to 2.02 and less than or equal to 2.25\n",
        "\n",
        "Dataframe 3 (train_a) : contain the rows with carat value greater than or equal to 2.75 and less than or equal to 2.85"
      ],
      "metadata": {
        "id": "WNkKS_8BvLex"
      }
    },
    {
      "cell_type": "code",
      "source": [
        "train_m=train[(train['carat']>=0.71)& (train['carat']<=1.50)]\n",
        "train_n=train[(train['carat']>=2.02)& (train['carat']<=2.25)]\n",
        "train_a=train[(train['carat']>=2.75)& (train['carat']<=2.85)]"
      ],
      "metadata": {
        "id": "46BxrYtUYaM3"
      },
      "execution_count": null,
      "outputs": []
    },
    {
      "cell_type": "code",
      "source": [
        "train_m"
      ],
      "metadata": {
        "colab": {
          "base_uri": "https://localhost:8080/",
          "height": 423
        },
        "id": "wJbDcXPVa42K",
        "outputId": "c37cbcc4-e7a8-46da-8a52-5a78c00ac6e4"
      },
      "execution_count": null,
      "outputs": [
        {
          "output_type": "execute_result",
          "data": {
            "text/plain": [
              "          Id  carat        cut color clarity  depth  table  price     x     y  \\\n",
              "0          1   1.06      Ideal     I     SI2   61.8   57.0   4270  6.57  6.60   \n",
              "5          6   0.90  Very Good     G      IF   63.1   58.0   5670  6.18  6.09   \n",
              "6          7   0.71  Very Good     F     VS1   61.8   60.0   3017  5.66  5.70   \n",
              "12        13   1.30    Premium     H     VS1   61.5   58.0   7855  6.98  6.96   \n",
              "14        15   0.85      Ideal     H     SI1   60.8   57.0   3183  6.13  6.18   \n",
              "...      ...    ...        ...   ...     ...    ...    ...    ...   ...   ...   \n",
              "571      572   1.10    Premium     G     SI2   63.0   59.0   3696  6.50  6.47   \n",
              "27221  27222   1.12    Premium     G      I1   60.4   59.0   2383  6.71  6.67   \n",
              "1221    1222   1.14       Fair     G     VS1   57.5   67.0   6381  6.43  6.43   \n",
              "21061  21062   1.15      Ideal     G     VS2   59.2   56.0   5564  6.88  6.83   \n",
              "4980    4981   1.50       Good     G      I1   64.0   61.0   4731  7.15  7.04   \n",
              "\n",
              "          z  \n",
              "0      4.07  \n",
              "5      3.87  \n",
              "6      3.51  \n",
              "12     4.29  \n",
              "14     3.74  \n",
              "...     ...  \n",
              "571    3.98  \n",
              "27221  3.98  \n",
              "1221   3.98  \n",
              "21061  3.98  \n",
              "4980   3.98  \n",
              "\n",
              "[17059 rows x 11 columns]"
            ],
            "text/html": [
              "\n",
              "  <div id=\"df-7770d8db-8ec9-40c2-bc3c-5da823d7e7b2\">\n",
              "    <div class=\"colab-df-container\">\n",
              "      <div>\n",
              "<style scoped>\n",
              "    .dataframe tbody tr th:only-of-type {\n",
              "        vertical-align: middle;\n",
              "    }\n",
              "\n",
              "    .dataframe tbody tr th {\n",
              "        vertical-align: top;\n",
              "    }\n",
              "\n",
              "    .dataframe thead th {\n",
              "        text-align: right;\n",
              "    }\n",
              "</style>\n",
              "<table border=\"1\" class=\"dataframe\">\n",
              "  <thead>\n",
              "    <tr style=\"text-align: right;\">\n",
              "      <th></th>\n",
              "      <th>Id</th>\n",
              "      <th>carat</th>\n",
              "      <th>cut</th>\n",
              "      <th>color</th>\n",
              "      <th>clarity</th>\n",
              "      <th>depth</th>\n",
              "      <th>table</th>\n",
              "      <th>price</th>\n",
              "      <th>x</th>\n",
              "      <th>y</th>\n",
              "      <th>z</th>\n",
              "    </tr>\n",
              "  </thead>\n",
              "  <tbody>\n",
              "    <tr>\n",
              "      <th>0</th>\n",
              "      <td>1</td>\n",
              "      <td>1.06</td>\n",
              "      <td>Ideal</td>\n",
              "      <td>I</td>\n",
              "      <td>SI2</td>\n",
              "      <td>61.8</td>\n",
              "      <td>57.0</td>\n",
              "      <td>4270</td>\n",
              "      <td>6.57</td>\n",
              "      <td>6.60</td>\n",
              "      <td>4.07</td>\n",
              "    </tr>\n",
              "    <tr>\n",
              "      <th>5</th>\n",
              "      <td>6</td>\n",
              "      <td>0.90</td>\n",
              "      <td>Very Good</td>\n",
              "      <td>G</td>\n",
              "      <td>IF</td>\n",
              "      <td>63.1</td>\n",
              "      <td>58.0</td>\n",
              "      <td>5670</td>\n",
              "      <td>6.18</td>\n",
              "      <td>6.09</td>\n",
              "      <td>3.87</td>\n",
              "    </tr>\n",
              "    <tr>\n",
              "      <th>6</th>\n",
              "      <td>7</td>\n",
              "      <td>0.71</td>\n",
              "      <td>Very Good</td>\n",
              "      <td>F</td>\n",
              "      <td>VS1</td>\n",
              "      <td>61.8</td>\n",
              "      <td>60.0</td>\n",
              "      <td>3017</td>\n",
              "      <td>5.66</td>\n",
              "      <td>5.70</td>\n",
              "      <td>3.51</td>\n",
              "    </tr>\n",
              "    <tr>\n",
              "      <th>12</th>\n",
              "      <td>13</td>\n",
              "      <td>1.30</td>\n",
              "      <td>Premium</td>\n",
              "      <td>H</td>\n",
              "      <td>VS1</td>\n",
              "      <td>61.5</td>\n",
              "      <td>58.0</td>\n",
              "      <td>7855</td>\n",
              "      <td>6.98</td>\n",
              "      <td>6.96</td>\n",
              "      <td>4.29</td>\n",
              "    </tr>\n",
              "    <tr>\n",
              "      <th>14</th>\n",
              "      <td>15</td>\n",
              "      <td>0.85</td>\n",
              "      <td>Ideal</td>\n",
              "      <td>H</td>\n",
              "      <td>SI1</td>\n",
              "      <td>60.8</td>\n",
              "      <td>57.0</td>\n",
              "      <td>3183</td>\n",
              "      <td>6.13</td>\n",
              "      <td>6.18</td>\n",
              "      <td>3.74</td>\n",
              "    </tr>\n",
              "    <tr>\n",
              "      <th>...</th>\n",
              "      <td>...</td>\n",
              "      <td>...</td>\n",
              "      <td>...</td>\n",
              "      <td>...</td>\n",
              "      <td>...</td>\n",
              "      <td>...</td>\n",
              "      <td>...</td>\n",
              "      <td>...</td>\n",
              "      <td>...</td>\n",
              "      <td>...</td>\n",
              "      <td>...</td>\n",
              "    </tr>\n",
              "    <tr>\n",
              "      <th>571</th>\n",
              "      <td>572</td>\n",
              "      <td>1.10</td>\n",
              "      <td>Premium</td>\n",
              "      <td>G</td>\n",
              "      <td>SI2</td>\n",
              "      <td>63.0</td>\n",
              "      <td>59.0</td>\n",
              "      <td>3696</td>\n",
              "      <td>6.50</td>\n",
              "      <td>6.47</td>\n",
              "      <td>3.98</td>\n",
              "    </tr>\n",
              "    <tr>\n",
              "      <th>27221</th>\n",
              "      <td>27222</td>\n",
              "      <td>1.12</td>\n",
              "      <td>Premium</td>\n",
              "      <td>G</td>\n",
              "      <td>I1</td>\n",
              "      <td>60.4</td>\n",
              "      <td>59.0</td>\n",
              "      <td>2383</td>\n",
              "      <td>6.71</td>\n",
              "      <td>6.67</td>\n",
              "      <td>3.98</td>\n",
              "    </tr>\n",
              "    <tr>\n",
              "      <th>1221</th>\n",
              "      <td>1222</td>\n",
              "      <td>1.14</td>\n",
              "      <td>Fair</td>\n",
              "      <td>G</td>\n",
              "      <td>VS1</td>\n",
              "      <td>57.5</td>\n",
              "      <td>67.0</td>\n",
              "      <td>6381</td>\n",
              "      <td>6.43</td>\n",
              "      <td>6.43</td>\n",
              "      <td>3.98</td>\n",
              "    </tr>\n",
              "    <tr>\n",
              "      <th>21061</th>\n",
              "      <td>21062</td>\n",
              "      <td>1.15</td>\n",
              "      <td>Ideal</td>\n",
              "      <td>G</td>\n",
              "      <td>VS2</td>\n",
              "      <td>59.2</td>\n",
              "      <td>56.0</td>\n",
              "      <td>5564</td>\n",
              "      <td>6.88</td>\n",
              "      <td>6.83</td>\n",
              "      <td>3.98</td>\n",
              "    </tr>\n",
              "    <tr>\n",
              "      <th>4980</th>\n",
              "      <td>4981</td>\n",
              "      <td>1.50</td>\n",
              "      <td>Good</td>\n",
              "      <td>G</td>\n",
              "      <td>I1</td>\n",
              "      <td>64.0</td>\n",
              "      <td>61.0</td>\n",
              "      <td>4731</td>\n",
              "      <td>7.15</td>\n",
              "      <td>7.04</td>\n",
              "      <td>3.98</td>\n",
              "    </tr>\n",
              "  </tbody>\n",
              "</table>\n",
              "<p>17059 rows × 11 columns</p>\n",
              "</div>\n",
              "      <button class=\"colab-df-convert\" onclick=\"convertToInteractive('df-7770d8db-8ec9-40c2-bc3c-5da823d7e7b2')\"\n",
              "              title=\"Convert this dataframe to an interactive table.\"\n",
              "              style=\"display:none;\">\n",
              "        \n",
              "  <svg xmlns=\"http://www.w3.org/2000/svg\" height=\"24px\"viewBox=\"0 0 24 24\"\n",
              "       width=\"24px\">\n",
              "    <path d=\"M0 0h24v24H0V0z\" fill=\"none\"/>\n",
              "    <path d=\"M18.56 5.44l.94 2.06.94-2.06 2.06-.94-2.06-.94-.94-2.06-.94 2.06-2.06.94zm-11 1L8.5 8.5l.94-2.06 2.06-.94-2.06-.94L8.5 2.5l-.94 2.06-2.06.94zm10 10l.94 2.06.94-2.06 2.06-.94-2.06-.94-.94-2.06-.94 2.06-2.06.94z\"/><path d=\"M17.41 7.96l-1.37-1.37c-.4-.4-.92-.59-1.43-.59-.52 0-1.04.2-1.43.59L10.3 9.45l-7.72 7.72c-.78.78-.78 2.05 0 2.83L4 21.41c.39.39.9.59 1.41.59.51 0 1.02-.2 1.41-.59l7.78-7.78 2.81-2.81c.8-.78.8-2.07 0-2.86zM5.41 20L4 18.59l7.72-7.72 1.47 1.35L5.41 20z\"/>\n",
              "  </svg>\n",
              "      </button>\n",
              "      \n",
              "  <style>\n",
              "    .colab-df-container {\n",
              "      display:flex;\n",
              "      flex-wrap:wrap;\n",
              "      gap: 12px;\n",
              "    }\n",
              "\n",
              "    .colab-df-convert {\n",
              "      background-color: #E8F0FE;\n",
              "      border: none;\n",
              "      border-radius: 50%;\n",
              "      cursor: pointer;\n",
              "      display: none;\n",
              "      fill: #1967D2;\n",
              "      height: 32px;\n",
              "      padding: 0 0 0 0;\n",
              "      width: 32px;\n",
              "    }\n",
              "\n",
              "    .colab-df-convert:hover {\n",
              "      background-color: #E2EBFA;\n",
              "      box-shadow: 0px 1px 2px rgba(60, 64, 67, 0.3), 0px 1px 3px 1px rgba(60, 64, 67, 0.15);\n",
              "      fill: #174EA6;\n",
              "    }\n",
              "\n",
              "    [theme=dark] .colab-df-convert {\n",
              "      background-color: #3B4455;\n",
              "      fill: #D2E3FC;\n",
              "    }\n",
              "\n",
              "    [theme=dark] .colab-df-convert:hover {\n",
              "      background-color: #434B5C;\n",
              "      box-shadow: 0px 1px 3px 1px rgba(0, 0, 0, 0.15);\n",
              "      filter: drop-shadow(0px 1px 2px rgba(0, 0, 0, 0.3));\n",
              "      fill: #FFFFFF;\n",
              "    }\n",
              "  </style>\n",
              "\n",
              "      <script>\n",
              "        const buttonEl =\n",
              "          document.querySelector('#df-7770d8db-8ec9-40c2-bc3c-5da823d7e7b2 button.colab-df-convert');\n",
              "        buttonEl.style.display =\n",
              "          google.colab.kernel.accessAllowed ? 'block' : 'none';\n",
              "\n",
              "        async function convertToInteractive(key) {\n",
              "          const element = document.querySelector('#df-7770d8db-8ec9-40c2-bc3c-5da823d7e7b2');\n",
              "          const dataTable =\n",
              "            await google.colab.kernel.invokeFunction('convertToInteractive',\n",
              "                                                     [key], {});\n",
              "          if (!dataTable) return;\n",
              "\n",
              "          const docLinkHtml = 'Like what you see? Visit the ' +\n",
              "            '<a target=\"_blank\" href=https://colab.research.google.com/notebooks/data_table.ipynb>data table notebook</a>'\n",
              "            + ' to learn more about interactive tables.';\n",
              "          element.innerHTML = '';\n",
              "          dataTable['output_type'] = 'display_data';\n",
              "          await google.colab.output.renderOutput(dataTable, element);\n",
              "          const docLink = document.createElement('div');\n",
              "          docLink.innerHTML = docLinkHtml;\n",
              "          element.appendChild(docLink);\n",
              "        }\n",
              "      </script>\n",
              "    </div>\n",
              "  </div>\n",
              "  "
            ]
          },
          "metadata": {},
          "execution_count": 24
        }
      ]
    },
    {
      "cell_type": "markdown",
      "source": [
        "I divide the df_of_zeros dataframe which contain the zeros values into three dataframes using the carat value:\n",
        "\n",
        "Dataframe 1 (df_zeros_1) : contain the rows with carat value greater than or equal to 0.71 and less than or equal to 1.50\n",
        "\n",
        "Dataframe 2 (df_zeros_2) : contain the rows with carat value greater than 1.50 and less than 2.50\n",
        "\n",
        "Dataframe 3 (df_zeros_3) : contain the rows with carat value greater than 2.50"
      ],
      "metadata": {
        "id": "BFr6WrFhzwFR"
      }
    },
    {
      "cell_type": "code",
      "source": [
        "df_zeros_1=df_of_zeros.head(11)\n",
        "df_zeros_2=df_of_zeros[(df_of_zeros[\"carat\"]>1.50)&(df_of_zeros[\"carat\"]<2.50)]\n",
        "df_zeros_3=df_of_zeros[(df_of_zeros[\"carat\"]>2.50)]"
      ],
      "metadata": {
        "id": "ikYdD-sybcyL"
      },
      "execution_count": null,
      "outputs": []
    },
    {
      "cell_type": "markdown",
      "source": [
        "Replace the zeros values by the median using replace method"
      ],
      "metadata": {
        "id": "Cfce4BAUtvDg"
      }
    },
    {
      "cell_type": "code",
      "source": [
        "df_zeros_1['z'].replace(0,train_m['z'].median(),inplace=True)\n",
        "df_zeros_1['y'].replace(0,train_m['y'].median(),inplace=True)\n",
        "df_zeros_1['x'].replace(0,train_m['x'].median(),inplace=True)\n",
        "df_zeros_2['z'].replace(0,train_n['z'].median(),inplace=True)\n",
        "df_zeros_2['y'].replace(0,train_n['y'].median(),inplace=True)\n",
        "df_zeros_2['x'].replace(0,train_n['x'].median(),inplace=True)\n",
        "df_zeros_3['z'].replace(0,train_a['z'].median(),inplace=True)"
      ],
      "metadata": {
        "id": "NbIdEypocPuH"
      },
      "execution_count": null,
      "outputs": []
    },
    {
      "cell_type": "code",
      "source": [
        "df_zeros_1"
      ],
      "metadata": {
        "colab": {
          "base_uri": "https://localhost:8080/",
          "height": 49
        },
        "id": "ekPK0KQwdIy3",
        "outputId": "589e40d7-c221-4875-d2bf-8c66ccae8e42"
      },
      "execution_count": null,
      "outputs": [
        {
          "output_type": "execute_result",
          "data": {
            "text/plain": [
              "Empty DataFrame\n",
              "Columns: [Id, carat, cut, color, clarity, depth, table, price, x, y, z]\n",
              "Index: []"
            ],
            "text/html": [
              "\n",
              "  <div id=\"df-3019fd1b-3812-41d4-864e-8d018151119f\">\n",
              "    <div class=\"colab-df-container\">\n",
              "      <div>\n",
              "<style scoped>\n",
              "    .dataframe tbody tr th:only-of-type {\n",
              "        vertical-align: middle;\n",
              "    }\n",
              "\n",
              "    .dataframe tbody tr th {\n",
              "        vertical-align: top;\n",
              "    }\n",
              "\n",
              "    .dataframe thead th {\n",
              "        text-align: right;\n",
              "    }\n",
              "</style>\n",
              "<table border=\"1\" class=\"dataframe\">\n",
              "  <thead>\n",
              "    <tr style=\"text-align: right;\">\n",
              "      <th></th>\n",
              "      <th>Id</th>\n",
              "      <th>carat</th>\n",
              "      <th>cut</th>\n",
              "      <th>color</th>\n",
              "      <th>clarity</th>\n",
              "      <th>depth</th>\n",
              "      <th>table</th>\n",
              "      <th>price</th>\n",
              "      <th>x</th>\n",
              "      <th>y</th>\n",
              "      <th>z</th>\n",
              "    </tr>\n",
              "  </thead>\n",
              "  <tbody>\n",
              "  </tbody>\n",
              "</table>\n",
              "</div>\n",
              "      <button class=\"colab-df-convert\" onclick=\"convertToInteractive('df-3019fd1b-3812-41d4-864e-8d018151119f')\"\n",
              "              title=\"Convert this dataframe to an interactive table.\"\n",
              "              style=\"display:none;\">\n",
              "        \n",
              "  <svg xmlns=\"http://www.w3.org/2000/svg\" height=\"24px\"viewBox=\"0 0 24 24\"\n",
              "       width=\"24px\">\n",
              "    <path d=\"M0 0h24v24H0V0z\" fill=\"none\"/>\n",
              "    <path d=\"M18.56 5.44l.94 2.06.94-2.06 2.06-.94-2.06-.94-.94-2.06-.94 2.06-2.06.94zm-11 1L8.5 8.5l.94-2.06 2.06-.94-2.06-.94L8.5 2.5l-.94 2.06-2.06.94zm10 10l.94 2.06.94-2.06 2.06-.94-2.06-.94-.94-2.06-.94 2.06-2.06.94z\"/><path d=\"M17.41 7.96l-1.37-1.37c-.4-.4-.92-.59-1.43-.59-.52 0-1.04.2-1.43.59L10.3 9.45l-7.72 7.72c-.78.78-.78 2.05 0 2.83L4 21.41c.39.39.9.59 1.41.59.51 0 1.02-.2 1.41-.59l7.78-7.78 2.81-2.81c.8-.78.8-2.07 0-2.86zM5.41 20L4 18.59l7.72-7.72 1.47 1.35L5.41 20z\"/>\n",
              "  </svg>\n",
              "      </button>\n",
              "      \n",
              "  <style>\n",
              "    .colab-df-container {\n",
              "      display:flex;\n",
              "      flex-wrap:wrap;\n",
              "      gap: 12px;\n",
              "    }\n",
              "\n",
              "    .colab-df-convert {\n",
              "      background-color: #E8F0FE;\n",
              "      border: none;\n",
              "      border-radius: 50%;\n",
              "      cursor: pointer;\n",
              "      display: none;\n",
              "      fill: #1967D2;\n",
              "      height: 32px;\n",
              "      padding: 0 0 0 0;\n",
              "      width: 32px;\n",
              "    }\n",
              "\n",
              "    .colab-df-convert:hover {\n",
              "      background-color: #E2EBFA;\n",
              "      box-shadow: 0px 1px 2px rgba(60, 64, 67, 0.3), 0px 1px 3px 1px rgba(60, 64, 67, 0.15);\n",
              "      fill: #174EA6;\n",
              "    }\n",
              "\n",
              "    [theme=dark] .colab-df-convert {\n",
              "      background-color: #3B4455;\n",
              "      fill: #D2E3FC;\n",
              "    }\n",
              "\n",
              "    [theme=dark] .colab-df-convert:hover {\n",
              "      background-color: #434B5C;\n",
              "      box-shadow: 0px 1px 3px 1px rgba(0, 0, 0, 0.15);\n",
              "      filter: drop-shadow(0px 1px 2px rgba(0, 0, 0, 0.3));\n",
              "      fill: #FFFFFF;\n",
              "    }\n",
              "  </style>\n",
              "\n",
              "      <script>\n",
              "        const buttonEl =\n",
              "          document.querySelector('#df-3019fd1b-3812-41d4-864e-8d018151119f button.colab-df-convert');\n",
              "        buttonEl.style.display =\n",
              "          google.colab.kernel.accessAllowed ? 'block' : 'none';\n",
              "\n",
              "        async function convertToInteractive(key) {\n",
              "          const element = document.querySelector('#df-3019fd1b-3812-41d4-864e-8d018151119f');\n",
              "          const dataTable =\n",
              "            await google.colab.kernel.invokeFunction('convertToInteractive',\n",
              "                                                     [key], {});\n",
              "          if (!dataTable) return;\n",
              "\n",
              "          const docLinkHtml = 'Like what you see? Visit the ' +\n",
              "            '<a target=\"_blank\" href=https://colab.research.google.com/notebooks/data_table.ipynb>data table notebook</a>'\n",
              "            + ' to learn more about interactive tables.';\n",
              "          element.innerHTML = '';\n",
              "          dataTable['output_type'] = 'display_data';\n",
              "          await google.colab.output.renderOutput(dataTable, element);\n",
              "          const docLink = document.createElement('div');\n",
              "          docLink.innerHTML = docLinkHtml;\n",
              "          element.appendChild(docLink);\n",
              "        }\n",
              "      </script>\n",
              "    </div>\n",
              "  </div>\n",
              "  "
            ]
          },
          "metadata": {},
          "execution_count": 27
        }
      ]
    },
    {
      "cell_type": "markdown",
      "source": [
        "Merge the three dataframes after replacing the zero values by the median into one dataframe called df_filled using concat() method"
      ],
      "metadata": {
        "id": "A55myYKz2oGr"
      }
    },
    {
      "cell_type": "code",
      "source": [
        "df_filled=pd.concat([df_zeros_1,df_zeros_2,df_zeros_3])\n",
        "df_filled"
      ],
      "metadata": {
        "colab": {
          "base_uri": "https://localhost:8080/",
          "height": 49
        },
        "id": "sxpkGLF4hRkm",
        "outputId": "90383bce-bb3c-4d36-82bb-a0e4934f034e"
      },
      "execution_count": null,
      "outputs": [
        {
          "output_type": "execute_result",
          "data": {
            "text/plain": [
              "Empty DataFrame\n",
              "Columns: [Id, carat, cut, color, clarity, depth, table, price, x, y, z]\n",
              "Index: []"
            ],
            "text/html": [
              "\n",
              "  <div id=\"df-7baa643e-95c8-4cc1-927f-6066637f6350\">\n",
              "    <div class=\"colab-df-container\">\n",
              "      <div>\n",
              "<style scoped>\n",
              "    .dataframe tbody tr th:only-of-type {\n",
              "        vertical-align: middle;\n",
              "    }\n",
              "\n",
              "    .dataframe tbody tr th {\n",
              "        vertical-align: top;\n",
              "    }\n",
              "\n",
              "    .dataframe thead th {\n",
              "        text-align: right;\n",
              "    }\n",
              "</style>\n",
              "<table border=\"1\" class=\"dataframe\">\n",
              "  <thead>\n",
              "    <tr style=\"text-align: right;\">\n",
              "      <th></th>\n",
              "      <th>Id</th>\n",
              "      <th>carat</th>\n",
              "      <th>cut</th>\n",
              "      <th>color</th>\n",
              "      <th>clarity</th>\n",
              "      <th>depth</th>\n",
              "      <th>table</th>\n",
              "      <th>price</th>\n",
              "      <th>x</th>\n",
              "      <th>y</th>\n",
              "      <th>z</th>\n",
              "    </tr>\n",
              "  </thead>\n",
              "  <tbody>\n",
              "  </tbody>\n",
              "</table>\n",
              "</div>\n",
              "      <button class=\"colab-df-convert\" onclick=\"convertToInteractive('df-7baa643e-95c8-4cc1-927f-6066637f6350')\"\n",
              "              title=\"Convert this dataframe to an interactive table.\"\n",
              "              style=\"display:none;\">\n",
              "        \n",
              "  <svg xmlns=\"http://www.w3.org/2000/svg\" height=\"24px\"viewBox=\"0 0 24 24\"\n",
              "       width=\"24px\">\n",
              "    <path d=\"M0 0h24v24H0V0z\" fill=\"none\"/>\n",
              "    <path d=\"M18.56 5.44l.94 2.06.94-2.06 2.06-.94-2.06-.94-.94-2.06-.94 2.06-2.06.94zm-11 1L8.5 8.5l.94-2.06 2.06-.94-2.06-.94L8.5 2.5l-.94 2.06-2.06.94zm10 10l.94 2.06.94-2.06 2.06-.94-2.06-.94-.94-2.06-.94 2.06-2.06.94z\"/><path d=\"M17.41 7.96l-1.37-1.37c-.4-.4-.92-.59-1.43-.59-.52 0-1.04.2-1.43.59L10.3 9.45l-7.72 7.72c-.78.78-.78 2.05 0 2.83L4 21.41c.39.39.9.59 1.41.59.51 0 1.02-.2 1.41-.59l7.78-7.78 2.81-2.81c.8-.78.8-2.07 0-2.86zM5.41 20L4 18.59l7.72-7.72 1.47 1.35L5.41 20z\"/>\n",
              "  </svg>\n",
              "      </button>\n",
              "      \n",
              "  <style>\n",
              "    .colab-df-container {\n",
              "      display:flex;\n",
              "      flex-wrap:wrap;\n",
              "      gap: 12px;\n",
              "    }\n",
              "\n",
              "    .colab-df-convert {\n",
              "      background-color: #E8F0FE;\n",
              "      border: none;\n",
              "      border-radius: 50%;\n",
              "      cursor: pointer;\n",
              "      display: none;\n",
              "      fill: #1967D2;\n",
              "      height: 32px;\n",
              "      padding: 0 0 0 0;\n",
              "      width: 32px;\n",
              "    }\n",
              "\n",
              "    .colab-df-convert:hover {\n",
              "      background-color: #E2EBFA;\n",
              "      box-shadow: 0px 1px 2px rgba(60, 64, 67, 0.3), 0px 1px 3px 1px rgba(60, 64, 67, 0.15);\n",
              "      fill: #174EA6;\n",
              "    }\n",
              "\n",
              "    [theme=dark] .colab-df-convert {\n",
              "      background-color: #3B4455;\n",
              "      fill: #D2E3FC;\n",
              "    }\n",
              "\n",
              "    [theme=dark] .colab-df-convert:hover {\n",
              "      background-color: #434B5C;\n",
              "      box-shadow: 0px 1px 3px 1px rgba(0, 0, 0, 0.15);\n",
              "      filter: drop-shadow(0px 1px 2px rgba(0, 0, 0, 0.3));\n",
              "      fill: #FFFFFF;\n",
              "    }\n",
              "  </style>\n",
              "\n",
              "      <script>\n",
              "        const buttonEl =\n",
              "          document.querySelector('#df-7baa643e-95c8-4cc1-927f-6066637f6350 button.colab-df-convert');\n",
              "        buttonEl.style.display =\n",
              "          google.colab.kernel.accessAllowed ? 'block' : 'none';\n",
              "\n",
              "        async function convertToInteractive(key) {\n",
              "          const element = document.querySelector('#df-7baa643e-95c8-4cc1-927f-6066637f6350');\n",
              "          const dataTable =\n",
              "            await google.colab.kernel.invokeFunction('convertToInteractive',\n",
              "                                                     [key], {});\n",
              "          if (!dataTable) return;\n",
              "\n",
              "          const docLinkHtml = 'Like what you see? Visit the ' +\n",
              "            '<a target=\"_blank\" href=https://colab.research.google.com/notebooks/data_table.ipynb>data table notebook</a>'\n",
              "            + ' to learn more about interactive tables.';\n",
              "          element.innerHTML = '';\n",
              "          dataTable['output_type'] = 'display_data';\n",
              "          await google.colab.output.renderOutput(dataTable, element);\n",
              "          const docLink = document.createElement('div');\n",
              "          docLink.innerHTML = docLinkHtml;\n",
              "          element.appendChild(docLink);\n",
              "        }\n",
              "      </script>\n",
              "    </div>\n",
              "  </div>\n",
              "  "
            ]
          },
          "metadata": {},
          "execution_count": 28
        }
      ]
    },
    {
      "cell_type": "markdown",
      "source": [
        "Merge the df_filled dataframe with train_no_zeros dataframe using concat() method"
      ],
      "metadata": {
        "id": "lWmoiQMJ4m6R"
      }
    },
    {
      "cell_type": "code",
      "source": [
        "train=pd.concat([train_no_zeros,df_filled])"
      ],
      "metadata": {
        "id": "G-54imw_idDG"
      },
      "execution_count": null,
      "outputs": []
    },
    {
      "cell_type": "code",
      "source": [
        "train.sort_values('Id',inplace=True)"
      ],
      "metadata": {
        "id": "Dcl-pclmYqLh"
      },
      "execution_count": null,
      "outputs": []
    },
    {
      "cell_type": "markdown",
      "source": [
        "## B- Handling Text and Categorical Attributes"
      ],
      "metadata": {
        "id": "GGbvoSuzFlMk"
      }
    },
    {
      "cell_type": "markdown",
      "source": [
        "Create two DataFreame for categorical data.\n",
        "\n",
        "The first one for categorical data in train data called train_cat.\n",
        "\n",
        "The secund one for categorical data in test data called test_cat."
      ],
      "metadata": {
        "id": "NZd5sD4wFsFH"
      }
    },
    {
      "cell_type": "code",
      "execution_count": null,
      "metadata": {
        "id": "Rva9KOEbT--w"
      },
      "outputs": [],
      "source": [
        "train_cat = train[['cut','color','clarity']]\n",
        "test_cat = test[['cut','color','clarity']]"
      ]
    },
    {
      "cell_type": "code",
      "execution_count": null,
      "metadata": {
        "colab": {
          "base_uri": "https://localhost:8080/"
        },
        "id": "akr1A0Nm3xaC",
        "outputId": "48e22c9d-5029-440f-ddff-a860c3eb815d"
      },
      "outputs": [
        {
          "output_type": "execute_result",
          "data": {
            "text/plain": [
              "array(['Ideal', 'Premium', 'Very Good', 'Fair', 'Good'], dtype=object)"
            ]
          },
          "metadata": {},
          "execution_count": 4
        }
      ],
      "source": [
        "train['cut'].unique()"
      ]
    },
    {
      "cell_type": "markdown",
      "source": [
        "We have 5 classes in cut column."
      ],
      "metadata": {
        "id": "BlGlI2MlJUAB"
      }
    },
    {
      "cell_type": "code",
      "execution_count": null,
      "metadata": {
        "colab": {
          "base_uri": "https://localhost:8080/"
        },
        "id": "80zCAEuM_2NM",
        "outputId": "37108a26-8089-4a65-83f9-c01bfb3ca3f2"
      },
      "outputs": [
        {
          "output_type": "execute_result",
          "data": {
            "text/plain": [
              "array(['I', 'G', 'F', 'H', 'D', 'E', 'J'], dtype=object)"
            ]
          },
          "metadata": {},
          "execution_count": 5
        }
      ],
      "source": [
        "train['color'].unique()"
      ]
    },
    {
      "cell_type": "markdown",
      "source": [
        "We have 7 classes in color column."
      ],
      "metadata": {
        "id": "Ibq7BjMbJcBk"
      }
    },
    {
      "cell_type": "code",
      "execution_count": null,
      "metadata": {
        "colab": {
          "base_uri": "https://localhost:8080/"
        },
        "id": "sNwJjUb5_2DE",
        "outputId": "eed16c70-d1fe-4b19-fe63-3c4a3d5d6775"
      },
      "outputs": [
        {
          "output_type": "execute_result",
          "data": {
            "text/plain": [
              "array(['SI2', 'VVS2', 'VS2', 'IF', 'VS1', 'SI1', 'VVS1', 'I1'],\n",
              "      dtype=object)"
            ]
          },
          "metadata": {},
          "execution_count": 6
        }
      ],
      "source": [
        "train['clarity'].unique()"
      ]
    },
    {
      "cell_type": "markdown",
      "source": [
        "We have 8 classes in clarity column."
      ],
      "metadata": {
        "id": "d018SWqSJory"
      }
    },
    {
      "cell_type": "markdown",
      "source": [
        "We delete the categorical data from train and test dataframe using the drop() method."
      ],
      "metadata": {
        "id": "17J2e6lEKMdC"
      }
    },
    {
      "cell_type": "code",
      "execution_count": null,
      "metadata": {
        "id": "n3KYImu9c2SY"
      },
      "outputs": [],
      "source": [
        "train=train.drop(train_cat,axis=1)\n",
        "test=test.drop(test_cat,axis=1)"
      ]
    },
    {
      "cell_type": "markdown",
      "source": [
        "Use sklearn OrdinalEncoder to fit and transform train_cat and test_cat.\n"
      ],
      "metadata": {
        "id": "wJClZnv7K4Aq"
      }
    },
    {
      "cell_type": "code",
      "execution_count": null,
      "metadata": {
        "id": "_6d8sLwhv539"
      },
      "outputs": [],
      "source": [
        "from sklearn.preprocessing import OrdinalEncoder\n",
        "\n",
        "train_enc = OrdinalEncoder(categories=[['Fair', 'Good', 'Very Good', 'Premium','Ideal' ],['J','I','H','G','F','E','D'],\n",
        "['I1' , 'SI2', 'SI1', 'VS2', 'VS1', 'VVS2', 'VVS1', 'IF' ]])\n",
        "test_enc = OrdinalEncoder(categories=[['Fair', 'Good', 'Very Good', 'Premium','Ideal' ],['J','I','H','G','F','E','D'],\n",
        "['I1' , 'SI2', 'SI1', 'VS2', 'VS1', 'VVS2', 'VVS1', 'IF' ]])\n",
        "\n",
        "train_cat_enc = train_enc.fit_transform(train_cat)\n",
        "test_cat_enc= test_enc.fit_transform(test_cat)"
      ]
    },
    {
      "cell_type": "markdown",
      "source": [
        "Convert data to DataFrame."
      ],
      "metadata": {
        "id": "P2DtBvGDLW3g"
      }
    },
    {
      "cell_type": "code",
      "execution_count": null,
      "metadata": {
        "id": "a5MuZmdScMfn"
      },
      "outputs": [],
      "source": [
        "train_cat_df = pd.DataFrame(train_cat_enc)\n",
        "test_cat_df = pd.DataFrame(test_cat_enc)"
      ]
    },
    {
      "cell_type": "markdown",
      "source": [
        "Take a look at train_cat_df and test_cat_df\n",
        "to shure that everything is corect."
      ],
      "metadata": {
        "id": "YmWdkpwdSnyw"
      }
    },
    {
      "cell_type": "code",
      "execution_count": null,
      "metadata": {
        "colab": {
          "base_uri": "https://localhost:8080/",
          "height": 423
        },
        "id": "gusuqxfgxg7w",
        "outputId": "d9f5b374-c47c-4713-a39e-d358b99839f2"
      },
      "outputs": [
        {
          "output_type": "execute_result",
          "data": {
            "text/plain": [
              "         0    1    2\n",
              "0      4.0  1.0  1.0\n",
              "1      3.0  3.0  5.0\n",
              "2      4.0  4.0  3.0\n",
              "3      4.0  3.0  3.0\n",
              "4      3.0  2.0  5.0\n",
              "...    ...  ...  ...\n",
              "43147  4.0  5.0  3.0\n",
              "43148  2.0  6.0  3.0\n",
              "43149  3.0  1.0  6.0\n",
              "43150  3.0  5.0  4.0\n",
              "43151  4.0  3.0  3.0\n",
              "\n",
              "[43152 rows x 3 columns]"
            ],
            "text/html": [
              "\n",
              "  <div id=\"df-b11c296b-3d23-4f19-94cd-33285ffbe68b\">\n",
              "    <div class=\"colab-df-container\">\n",
              "      <div>\n",
              "<style scoped>\n",
              "    .dataframe tbody tr th:only-of-type {\n",
              "        vertical-align: middle;\n",
              "    }\n",
              "\n",
              "    .dataframe tbody tr th {\n",
              "        vertical-align: top;\n",
              "    }\n",
              "\n",
              "    .dataframe thead th {\n",
              "        text-align: right;\n",
              "    }\n",
              "</style>\n",
              "<table border=\"1\" class=\"dataframe\">\n",
              "  <thead>\n",
              "    <tr style=\"text-align: right;\">\n",
              "      <th></th>\n",
              "      <th>0</th>\n",
              "      <th>1</th>\n",
              "      <th>2</th>\n",
              "    </tr>\n",
              "  </thead>\n",
              "  <tbody>\n",
              "    <tr>\n",
              "      <th>0</th>\n",
              "      <td>4.0</td>\n",
              "      <td>1.0</td>\n",
              "      <td>1.0</td>\n",
              "    </tr>\n",
              "    <tr>\n",
              "      <th>1</th>\n",
              "      <td>3.0</td>\n",
              "      <td>3.0</td>\n",
              "      <td>5.0</td>\n",
              "    </tr>\n",
              "    <tr>\n",
              "      <th>2</th>\n",
              "      <td>4.0</td>\n",
              "      <td>4.0</td>\n",
              "      <td>3.0</td>\n",
              "    </tr>\n",
              "    <tr>\n",
              "      <th>3</th>\n",
              "      <td>4.0</td>\n",
              "      <td>3.0</td>\n",
              "      <td>3.0</td>\n",
              "    </tr>\n",
              "    <tr>\n",
              "      <th>4</th>\n",
              "      <td>3.0</td>\n",
              "      <td>2.0</td>\n",
              "      <td>5.0</td>\n",
              "    </tr>\n",
              "    <tr>\n",
              "      <th>...</th>\n",
              "      <td>...</td>\n",
              "      <td>...</td>\n",
              "      <td>...</td>\n",
              "    </tr>\n",
              "    <tr>\n",
              "      <th>43147</th>\n",
              "      <td>4.0</td>\n",
              "      <td>5.0</td>\n",
              "      <td>3.0</td>\n",
              "    </tr>\n",
              "    <tr>\n",
              "      <th>43148</th>\n",
              "      <td>2.0</td>\n",
              "      <td>6.0</td>\n",
              "      <td>3.0</td>\n",
              "    </tr>\n",
              "    <tr>\n",
              "      <th>43149</th>\n",
              "      <td>3.0</td>\n",
              "      <td>1.0</td>\n",
              "      <td>6.0</td>\n",
              "    </tr>\n",
              "    <tr>\n",
              "      <th>43150</th>\n",
              "      <td>3.0</td>\n",
              "      <td>5.0</td>\n",
              "      <td>4.0</td>\n",
              "    </tr>\n",
              "    <tr>\n",
              "      <th>43151</th>\n",
              "      <td>4.0</td>\n",
              "      <td>3.0</td>\n",
              "      <td>3.0</td>\n",
              "    </tr>\n",
              "  </tbody>\n",
              "</table>\n",
              "<p>43152 rows × 3 columns</p>\n",
              "</div>\n",
              "      <button class=\"colab-df-convert\" onclick=\"convertToInteractive('df-b11c296b-3d23-4f19-94cd-33285ffbe68b')\"\n",
              "              title=\"Convert this dataframe to an interactive table.\"\n",
              "              style=\"display:none;\">\n",
              "        \n",
              "  <svg xmlns=\"http://www.w3.org/2000/svg\" height=\"24px\"viewBox=\"0 0 24 24\"\n",
              "       width=\"24px\">\n",
              "    <path d=\"M0 0h24v24H0V0z\" fill=\"none\"/>\n",
              "    <path d=\"M18.56 5.44l.94 2.06.94-2.06 2.06-.94-2.06-.94-.94-2.06-.94 2.06-2.06.94zm-11 1L8.5 8.5l.94-2.06 2.06-.94-2.06-.94L8.5 2.5l-.94 2.06-2.06.94zm10 10l.94 2.06.94-2.06 2.06-.94-2.06-.94-.94-2.06-.94 2.06-2.06.94z\"/><path d=\"M17.41 7.96l-1.37-1.37c-.4-.4-.92-.59-1.43-.59-.52 0-1.04.2-1.43.59L10.3 9.45l-7.72 7.72c-.78.78-.78 2.05 0 2.83L4 21.41c.39.39.9.59 1.41.59.51 0 1.02-.2 1.41-.59l7.78-7.78 2.81-2.81c.8-.78.8-2.07 0-2.86zM5.41 20L4 18.59l7.72-7.72 1.47 1.35L5.41 20z\"/>\n",
              "  </svg>\n",
              "      </button>\n",
              "      \n",
              "  <style>\n",
              "    .colab-df-container {\n",
              "      display:flex;\n",
              "      flex-wrap:wrap;\n",
              "      gap: 12px;\n",
              "    }\n",
              "\n",
              "    .colab-df-convert {\n",
              "      background-color: #E8F0FE;\n",
              "      border: none;\n",
              "      border-radius: 50%;\n",
              "      cursor: pointer;\n",
              "      display: none;\n",
              "      fill: #1967D2;\n",
              "      height: 32px;\n",
              "      padding: 0 0 0 0;\n",
              "      width: 32px;\n",
              "    }\n",
              "\n",
              "    .colab-df-convert:hover {\n",
              "      background-color: #E2EBFA;\n",
              "      box-shadow: 0px 1px 2px rgba(60, 64, 67, 0.3), 0px 1px 3px 1px rgba(60, 64, 67, 0.15);\n",
              "      fill: #174EA6;\n",
              "    }\n",
              "\n",
              "    [theme=dark] .colab-df-convert {\n",
              "      background-color: #3B4455;\n",
              "      fill: #D2E3FC;\n",
              "    }\n",
              "\n",
              "    [theme=dark] .colab-df-convert:hover {\n",
              "      background-color: #434B5C;\n",
              "      box-shadow: 0px 1px 3px 1px rgba(0, 0, 0, 0.15);\n",
              "      filter: drop-shadow(0px 1px 2px rgba(0, 0, 0, 0.3));\n",
              "      fill: #FFFFFF;\n",
              "    }\n",
              "  </style>\n",
              "\n",
              "      <script>\n",
              "        const buttonEl =\n",
              "          document.querySelector('#df-b11c296b-3d23-4f19-94cd-33285ffbe68b button.colab-df-convert');\n",
              "        buttonEl.style.display =\n",
              "          google.colab.kernel.accessAllowed ? 'block' : 'none';\n",
              "\n",
              "        async function convertToInteractive(key) {\n",
              "          const element = document.querySelector('#df-b11c296b-3d23-4f19-94cd-33285ffbe68b');\n",
              "          const dataTable =\n",
              "            await google.colab.kernel.invokeFunction('convertToInteractive',\n",
              "                                                     [key], {});\n",
              "          if (!dataTable) return;\n",
              "\n",
              "          const docLinkHtml = 'Like what you see? Visit the ' +\n",
              "            '<a target=\"_blank\" href=https://colab.research.google.com/notebooks/data_table.ipynb>data table notebook</a>'\n",
              "            + ' to learn more about interactive tables.';\n",
              "          element.innerHTML = '';\n",
              "          dataTable['output_type'] = 'display_data';\n",
              "          await google.colab.output.renderOutput(dataTable, element);\n",
              "          const docLink = document.createElement('div');\n",
              "          docLink.innerHTML = docLinkHtml;\n",
              "          element.appendChild(docLink);\n",
              "        }\n",
              "      </script>\n",
              "    </div>\n",
              "  </div>\n",
              "  "
            ]
          },
          "metadata": {},
          "execution_count": 52
        }
      ],
      "source": [
        "train_cat_df"
      ]
    },
    {
      "cell_type": "code",
      "execution_count": null,
      "metadata": {
        "colab": {
          "base_uri": "https://localhost:8080/",
          "height": 423
        },
        "id": "S4-oO-Elxgxk",
        "outputId": "59d55516-1001-4cc3-ce6e-863c894ca23e"
      },
      "outputs": [
        {
          "output_type": "execute_result",
          "data": {
            "text/plain": [
              "         0    1    2\n",
              "0      4.0  3.0  5.0\n",
              "1      3.0  5.0  3.0\n",
              "2      2.0  1.0  4.0\n",
              "3      3.0  5.0  1.0\n",
              "4      4.0  3.0  6.0\n",
              "...    ...  ...  ...\n",
              "10783  4.0  2.0  4.0\n",
              "10784  4.0  3.0  3.0\n",
              "10785  4.0  5.0  6.0\n",
              "10786  3.0  5.0  1.0\n",
              "10787  3.0  4.0  1.0\n",
              "\n",
              "[10788 rows x 3 columns]"
            ],
            "text/html": [
              "\n",
              "  <div id=\"df-7423f8ab-3d09-4666-974a-4f04442a48b5\">\n",
              "    <div class=\"colab-df-container\">\n",
              "      <div>\n",
              "<style scoped>\n",
              "    .dataframe tbody tr th:only-of-type {\n",
              "        vertical-align: middle;\n",
              "    }\n",
              "\n",
              "    .dataframe tbody tr th {\n",
              "        vertical-align: top;\n",
              "    }\n",
              "\n",
              "    .dataframe thead th {\n",
              "        text-align: right;\n",
              "    }\n",
              "</style>\n",
              "<table border=\"1\" class=\"dataframe\">\n",
              "  <thead>\n",
              "    <tr style=\"text-align: right;\">\n",
              "      <th></th>\n",
              "      <th>0</th>\n",
              "      <th>1</th>\n",
              "      <th>2</th>\n",
              "    </tr>\n",
              "  </thead>\n",
              "  <tbody>\n",
              "    <tr>\n",
              "      <th>0</th>\n",
              "      <td>4.0</td>\n",
              "      <td>3.0</td>\n",
              "      <td>5.0</td>\n",
              "    </tr>\n",
              "    <tr>\n",
              "      <th>1</th>\n",
              "      <td>3.0</td>\n",
              "      <td>5.0</td>\n",
              "      <td>3.0</td>\n",
              "    </tr>\n",
              "    <tr>\n",
              "      <th>2</th>\n",
              "      <td>2.0</td>\n",
              "      <td>1.0</td>\n",
              "      <td>4.0</td>\n",
              "    </tr>\n",
              "    <tr>\n",
              "      <th>3</th>\n",
              "      <td>3.0</td>\n",
              "      <td>5.0</td>\n",
              "      <td>1.0</td>\n",
              "    </tr>\n",
              "    <tr>\n",
              "      <th>4</th>\n",
              "      <td>4.0</td>\n",
              "      <td>3.0</td>\n",
              "      <td>6.0</td>\n",
              "    </tr>\n",
              "    <tr>\n",
              "      <th>...</th>\n",
              "      <td>...</td>\n",
              "      <td>...</td>\n",
              "      <td>...</td>\n",
              "    </tr>\n",
              "    <tr>\n",
              "      <th>10783</th>\n",
              "      <td>4.0</td>\n",
              "      <td>2.0</td>\n",
              "      <td>4.0</td>\n",
              "    </tr>\n",
              "    <tr>\n",
              "      <th>10784</th>\n",
              "      <td>4.0</td>\n",
              "      <td>3.0</td>\n",
              "      <td>3.0</td>\n",
              "    </tr>\n",
              "    <tr>\n",
              "      <th>10785</th>\n",
              "      <td>4.0</td>\n",
              "      <td>5.0</td>\n",
              "      <td>6.0</td>\n",
              "    </tr>\n",
              "    <tr>\n",
              "      <th>10786</th>\n",
              "      <td>3.0</td>\n",
              "      <td>5.0</td>\n",
              "      <td>1.0</td>\n",
              "    </tr>\n",
              "    <tr>\n",
              "      <th>10787</th>\n",
              "      <td>3.0</td>\n",
              "      <td>4.0</td>\n",
              "      <td>1.0</td>\n",
              "    </tr>\n",
              "  </tbody>\n",
              "</table>\n",
              "<p>10788 rows × 3 columns</p>\n",
              "</div>\n",
              "      <button class=\"colab-df-convert\" onclick=\"convertToInteractive('df-7423f8ab-3d09-4666-974a-4f04442a48b5')\"\n",
              "              title=\"Convert this dataframe to an interactive table.\"\n",
              "              style=\"display:none;\">\n",
              "        \n",
              "  <svg xmlns=\"http://www.w3.org/2000/svg\" height=\"24px\"viewBox=\"0 0 24 24\"\n",
              "       width=\"24px\">\n",
              "    <path d=\"M0 0h24v24H0V0z\" fill=\"none\"/>\n",
              "    <path d=\"M18.56 5.44l.94 2.06.94-2.06 2.06-.94-2.06-.94-.94-2.06-.94 2.06-2.06.94zm-11 1L8.5 8.5l.94-2.06 2.06-.94-2.06-.94L8.5 2.5l-.94 2.06-2.06.94zm10 10l.94 2.06.94-2.06 2.06-.94-2.06-.94-.94-2.06-.94 2.06-2.06.94z\"/><path d=\"M17.41 7.96l-1.37-1.37c-.4-.4-.92-.59-1.43-.59-.52 0-1.04.2-1.43.59L10.3 9.45l-7.72 7.72c-.78.78-.78 2.05 0 2.83L4 21.41c.39.39.9.59 1.41.59.51 0 1.02-.2 1.41-.59l7.78-7.78 2.81-2.81c.8-.78.8-2.07 0-2.86zM5.41 20L4 18.59l7.72-7.72 1.47 1.35L5.41 20z\"/>\n",
              "  </svg>\n",
              "      </button>\n",
              "      \n",
              "  <style>\n",
              "    .colab-df-container {\n",
              "      display:flex;\n",
              "      flex-wrap:wrap;\n",
              "      gap: 12px;\n",
              "    }\n",
              "\n",
              "    .colab-df-convert {\n",
              "      background-color: #E8F0FE;\n",
              "      border: none;\n",
              "      border-radius: 50%;\n",
              "      cursor: pointer;\n",
              "      display: none;\n",
              "      fill: #1967D2;\n",
              "      height: 32px;\n",
              "      padding: 0 0 0 0;\n",
              "      width: 32px;\n",
              "    }\n",
              "\n",
              "    .colab-df-convert:hover {\n",
              "      background-color: #E2EBFA;\n",
              "      box-shadow: 0px 1px 2px rgba(60, 64, 67, 0.3), 0px 1px 3px 1px rgba(60, 64, 67, 0.15);\n",
              "      fill: #174EA6;\n",
              "    }\n",
              "\n",
              "    [theme=dark] .colab-df-convert {\n",
              "      background-color: #3B4455;\n",
              "      fill: #D2E3FC;\n",
              "    }\n",
              "\n",
              "    [theme=dark] .colab-df-convert:hover {\n",
              "      background-color: #434B5C;\n",
              "      box-shadow: 0px 1px 3px 1px rgba(0, 0, 0, 0.15);\n",
              "      filter: drop-shadow(0px 1px 2px rgba(0, 0, 0, 0.3));\n",
              "      fill: #FFFFFF;\n",
              "    }\n",
              "  </style>\n",
              "\n",
              "      <script>\n",
              "        const buttonEl =\n",
              "          document.querySelector('#df-7423f8ab-3d09-4666-974a-4f04442a48b5 button.colab-df-convert');\n",
              "        buttonEl.style.display =\n",
              "          google.colab.kernel.accessAllowed ? 'block' : 'none';\n",
              "\n",
              "        async function convertToInteractive(key) {\n",
              "          const element = document.querySelector('#df-7423f8ab-3d09-4666-974a-4f04442a48b5');\n",
              "          const dataTable =\n",
              "            await google.colab.kernel.invokeFunction('convertToInteractive',\n",
              "                                                     [key], {});\n",
              "          if (!dataTable) return;\n",
              "\n",
              "          const docLinkHtml = 'Like what you see? Visit the ' +\n",
              "            '<a target=\"_blank\" href=https://colab.research.google.com/notebooks/data_table.ipynb>data table notebook</a>'\n",
              "            + ' to learn more about interactive tables.';\n",
              "          element.innerHTML = '';\n",
              "          dataTable['output_type'] = 'display_data';\n",
              "          await google.colab.output.renderOutput(dataTable, element);\n",
              "          const docLink = document.createElement('div');\n",
              "          docLink.innerHTML = docLinkHtml;\n",
              "          element.appendChild(docLink);\n",
              "        }\n",
              "      </script>\n",
              "    </div>\n",
              "  </div>\n",
              "  "
            ]
          },
          "metadata": {},
          "execution_count": 53
        }
      ],
      "source": [
        "test_cat_df"
      ]
    },
    {
      "cell_type": "markdown",
      "source": [
        "Combine the numerical attributes with the categorical data.\n",
        "\n",
        "Combine the train dataframe  with the train_cat_df in new DataFrame called train_full.\n",
        "\n",
        "Combine the test dataframe  with the test_cat_df in new DataFrame called test_full."
      ],
      "metadata": {
        "id": "5QaT-IVAWBln"
      }
    },
    {
      "cell_type": "code",
      "execution_count": null,
      "metadata": {
        "id": "ryWE-wnYTjjP"
      },
      "outputs": [],
      "source": [
        "train_full=train.join(train_cat_df)\n",
        "test_full=test.join(test_cat_df)"
      ]
    },
    {
      "cell_type": "code",
      "execution_count": null,
      "metadata": {
        "colab": {
          "base_uri": "https://localhost:8080/",
          "height": 206
        },
        "id": "czGTmm3vyBAQ",
        "outputId": "8087332a-385d-4fb9-be43-51b0654b387e"
      },
      "outputs": [
        {
          "output_type": "execute_result",
          "data": {
            "text/plain": [
              "   Id  carat  depth  table  price     x     y     z    0    1    2\n",
              "0   1   1.06   61.8   57.0   4270  6.57  6.60  4.07  4.0  1.0  1.0\n",
              "1   2   1.51   60.9   58.0  15164  7.38  7.42  4.51  3.0  3.0  5.0\n",
              "2   3   0.32   61.3   56.0    828  4.43  4.41  2.71  4.0  4.0  3.0\n",
              "3   4   0.53   61.2   56.0   1577  5.19  5.22  3.19  4.0  3.0  3.0\n",
              "4   5   0.70   61.0   57.0   2596  5.76  5.72  3.50  3.0  2.0  5.0"
            ],
            "text/html": [
              "\n",
              "  <div id=\"df-ce389ece-047a-4976-933b-092968cadc7d\">\n",
              "    <div class=\"colab-df-container\">\n",
              "      <div>\n",
              "<style scoped>\n",
              "    .dataframe tbody tr th:only-of-type {\n",
              "        vertical-align: middle;\n",
              "    }\n",
              "\n",
              "    .dataframe tbody tr th {\n",
              "        vertical-align: top;\n",
              "    }\n",
              "\n",
              "    .dataframe thead th {\n",
              "        text-align: right;\n",
              "    }\n",
              "</style>\n",
              "<table border=\"1\" class=\"dataframe\">\n",
              "  <thead>\n",
              "    <tr style=\"text-align: right;\">\n",
              "      <th></th>\n",
              "      <th>Id</th>\n",
              "      <th>carat</th>\n",
              "      <th>depth</th>\n",
              "      <th>table</th>\n",
              "      <th>price</th>\n",
              "      <th>x</th>\n",
              "      <th>y</th>\n",
              "      <th>z</th>\n",
              "      <th>0</th>\n",
              "      <th>1</th>\n",
              "      <th>2</th>\n",
              "    </tr>\n",
              "  </thead>\n",
              "  <tbody>\n",
              "    <tr>\n",
              "      <th>0</th>\n",
              "      <td>1</td>\n",
              "      <td>1.06</td>\n",
              "      <td>61.8</td>\n",
              "      <td>57.0</td>\n",
              "      <td>4270</td>\n",
              "      <td>6.57</td>\n",
              "      <td>6.60</td>\n",
              "      <td>4.07</td>\n",
              "      <td>4.0</td>\n",
              "      <td>1.0</td>\n",
              "      <td>1.0</td>\n",
              "    </tr>\n",
              "    <tr>\n",
              "      <th>1</th>\n",
              "      <td>2</td>\n",
              "      <td>1.51</td>\n",
              "      <td>60.9</td>\n",
              "      <td>58.0</td>\n",
              "      <td>15164</td>\n",
              "      <td>7.38</td>\n",
              "      <td>7.42</td>\n",
              "      <td>4.51</td>\n",
              "      <td>3.0</td>\n",
              "      <td>3.0</td>\n",
              "      <td>5.0</td>\n",
              "    </tr>\n",
              "    <tr>\n",
              "      <th>2</th>\n",
              "      <td>3</td>\n",
              "      <td>0.32</td>\n",
              "      <td>61.3</td>\n",
              "      <td>56.0</td>\n",
              "      <td>828</td>\n",
              "      <td>4.43</td>\n",
              "      <td>4.41</td>\n",
              "      <td>2.71</td>\n",
              "      <td>4.0</td>\n",
              "      <td>4.0</td>\n",
              "      <td>3.0</td>\n",
              "    </tr>\n",
              "    <tr>\n",
              "      <th>3</th>\n",
              "      <td>4</td>\n",
              "      <td>0.53</td>\n",
              "      <td>61.2</td>\n",
              "      <td>56.0</td>\n",
              "      <td>1577</td>\n",
              "      <td>5.19</td>\n",
              "      <td>5.22</td>\n",
              "      <td>3.19</td>\n",
              "      <td>4.0</td>\n",
              "      <td>3.0</td>\n",
              "      <td>3.0</td>\n",
              "    </tr>\n",
              "    <tr>\n",
              "      <th>4</th>\n",
              "      <td>5</td>\n",
              "      <td>0.70</td>\n",
              "      <td>61.0</td>\n",
              "      <td>57.0</td>\n",
              "      <td>2596</td>\n",
              "      <td>5.76</td>\n",
              "      <td>5.72</td>\n",
              "      <td>3.50</td>\n",
              "      <td>3.0</td>\n",
              "      <td>2.0</td>\n",
              "      <td>5.0</td>\n",
              "    </tr>\n",
              "  </tbody>\n",
              "</table>\n",
              "</div>\n",
              "      <button class=\"colab-df-convert\" onclick=\"convertToInteractive('df-ce389ece-047a-4976-933b-092968cadc7d')\"\n",
              "              title=\"Convert this dataframe to an interactive table.\"\n",
              "              style=\"display:none;\">\n",
              "        \n",
              "  <svg xmlns=\"http://www.w3.org/2000/svg\" height=\"24px\"viewBox=\"0 0 24 24\"\n",
              "       width=\"24px\">\n",
              "    <path d=\"M0 0h24v24H0V0z\" fill=\"none\"/>\n",
              "    <path d=\"M18.56 5.44l.94 2.06.94-2.06 2.06-.94-2.06-.94-.94-2.06-.94 2.06-2.06.94zm-11 1L8.5 8.5l.94-2.06 2.06-.94-2.06-.94L8.5 2.5l-.94 2.06-2.06.94zm10 10l.94 2.06.94-2.06 2.06-.94-2.06-.94-.94-2.06-.94 2.06-2.06.94z\"/><path d=\"M17.41 7.96l-1.37-1.37c-.4-.4-.92-.59-1.43-.59-.52 0-1.04.2-1.43.59L10.3 9.45l-7.72 7.72c-.78.78-.78 2.05 0 2.83L4 21.41c.39.39.9.59 1.41.59.51 0 1.02-.2 1.41-.59l7.78-7.78 2.81-2.81c.8-.78.8-2.07 0-2.86zM5.41 20L4 18.59l7.72-7.72 1.47 1.35L5.41 20z\"/>\n",
              "  </svg>\n",
              "      </button>\n",
              "      \n",
              "  <style>\n",
              "    .colab-df-container {\n",
              "      display:flex;\n",
              "      flex-wrap:wrap;\n",
              "      gap: 12px;\n",
              "    }\n",
              "\n",
              "    .colab-df-convert {\n",
              "      background-color: #E8F0FE;\n",
              "      border: none;\n",
              "      border-radius: 50%;\n",
              "      cursor: pointer;\n",
              "      display: none;\n",
              "      fill: #1967D2;\n",
              "      height: 32px;\n",
              "      padding: 0 0 0 0;\n",
              "      width: 32px;\n",
              "    }\n",
              "\n",
              "    .colab-df-convert:hover {\n",
              "      background-color: #E2EBFA;\n",
              "      box-shadow: 0px 1px 2px rgba(60, 64, 67, 0.3), 0px 1px 3px 1px rgba(60, 64, 67, 0.15);\n",
              "      fill: #174EA6;\n",
              "    }\n",
              "\n",
              "    [theme=dark] .colab-df-convert {\n",
              "      background-color: #3B4455;\n",
              "      fill: #D2E3FC;\n",
              "    }\n",
              "\n",
              "    [theme=dark] .colab-df-convert:hover {\n",
              "      background-color: #434B5C;\n",
              "      box-shadow: 0px 1px 3px 1px rgba(0, 0, 0, 0.15);\n",
              "      filter: drop-shadow(0px 1px 2px rgba(0, 0, 0, 0.3));\n",
              "      fill: #FFFFFF;\n",
              "    }\n",
              "  </style>\n",
              "\n",
              "      <script>\n",
              "        const buttonEl =\n",
              "          document.querySelector('#df-ce389ece-047a-4976-933b-092968cadc7d button.colab-df-convert');\n",
              "        buttonEl.style.display =\n",
              "          google.colab.kernel.accessAllowed ? 'block' : 'none';\n",
              "\n",
              "        async function convertToInteractive(key) {\n",
              "          const element = document.querySelector('#df-ce389ece-047a-4976-933b-092968cadc7d');\n",
              "          const dataTable =\n",
              "            await google.colab.kernel.invokeFunction('convertToInteractive',\n",
              "                                                     [key], {});\n",
              "          if (!dataTable) return;\n",
              "\n",
              "          const docLinkHtml = 'Like what you see? Visit the ' +\n",
              "            '<a target=\"_blank\" href=https://colab.research.google.com/notebooks/data_table.ipynb>data table notebook</a>'\n",
              "            + ' to learn more about interactive tables.';\n",
              "          element.innerHTML = '';\n",
              "          dataTable['output_type'] = 'display_data';\n",
              "          await google.colab.output.renderOutput(dataTable, element);\n",
              "          const docLink = document.createElement('div');\n",
              "          docLink.innerHTML = docLinkHtml;\n",
              "          element.appendChild(docLink);\n",
              "        }\n",
              "      </script>\n",
              "    </div>\n",
              "  </div>\n",
              "  "
            ]
          },
          "metadata": {},
          "execution_count": 141
        }
      ],
      "source": [
        "train_full.head()"
      ]
    },
    {
      "cell_type": "code",
      "execution_count": null,
      "metadata": {
        "colab": {
          "base_uri": "https://localhost:8080/",
          "height": 206
        },
        "id": "ZEDLoY05yA9J",
        "outputId": "3228b39a-facd-47dd-f5c2-62742a29ddee"
      },
      "outputs": [
        {
          "output_type": "execute_result",
          "data": {
            "text/plain": [
              "   Id  carat  depth  table     x     y     z    0    1    2\n",
              "0   1   0.34   61.1   57.0  4.52  4.48  2.75  4.0  3.0  5.0\n",
              "1   2   0.71   62.7   58.0  5.74  5.68  3.58  3.0  5.0  3.0\n",
              "2   3   0.44   62.8   56.0  4.83  4.88  3.05  2.0  1.0  4.0\n",
              "3   4   0.81   60.1   59.0  6.09  6.03  3.65  3.0  5.0  1.0\n",
              "4   5   0.40   61.2   56.0  4.74  4.80  2.92  4.0  3.0  6.0"
            ],
            "text/html": [
              "\n",
              "  <div id=\"df-1ed630f1-af67-423c-84c0-6b4c22e828c7\">\n",
              "    <div class=\"colab-df-container\">\n",
              "      <div>\n",
              "<style scoped>\n",
              "    .dataframe tbody tr th:only-of-type {\n",
              "        vertical-align: middle;\n",
              "    }\n",
              "\n",
              "    .dataframe tbody tr th {\n",
              "        vertical-align: top;\n",
              "    }\n",
              "\n",
              "    .dataframe thead th {\n",
              "        text-align: right;\n",
              "    }\n",
              "</style>\n",
              "<table border=\"1\" class=\"dataframe\">\n",
              "  <thead>\n",
              "    <tr style=\"text-align: right;\">\n",
              "      <th></th>\n",
              "      <th>Id</th>\n",
              "      <th>carat</th>\n",
              "      <th>depth</th>\n",
              "      <th>table</th>\n",
              "      <th>x</th>\n",
              "      <th>y</th>\n",
              "      <th>z</th>\n",
              "      <th>0</th>\n",
              "      <th>1</th>\n",
              "      <th>2</th>\n",
              "    </tr>\n",
              "  </thead>\n",
              "  <tbody>\n",
              "    <tr>\n",
              "      <th>0</th>\n",
              "      <td>1</td>\n",
              "      <td>0.34</td>\n",
              "      <td>61.1</td>\n",
              "      <td>57.0</td>\n",
              "      <td>4.52</td>\n",
              "      <td>4.48</td>\n",
              "      <td>2.75</td>\n",
              "      <td>4.0</td>\n",
              "      <td>3.0</td>\n",
              "      <td>5.0</td>\n",
              "    </tr>\n",
              "    <tr>\n",
              "      <th>1</th>\n",
              "      <td>2</td>\n",
              "      <td>0.71</td>\n",
              "      <td>62.7</td>\n",
              "      <td>58.0</td>\n",
              "      <td>5.74</td>\n",
              "      <td>5.68</td>\n",
              "      <td>3.58</td>\n",
              "      <td>3.0</td>\n",
              "      <td>5.0</td>\n",
              "      <td>3.0</td>\n",
              "    </tr>\n",
              "    <tr>\n",
              "      <th>2</th>\n",
              "      <td>3</td>\n",
              "      <td>0.44</td>\n",
              "      <td>62.8</td>\n",
              "      <td>56.0</td>\n",
              "      <td>4.83</td>\n",
              "      <td>4.88</td>\n",
              "      <td>3.05</td>\n",
              "      <td>2.0</td>\n",
              "      <td>1.0</td>\n",
              "      <td>4.0</td>\n",
              "    </tr>\n",
              "    <tr>\n",
              "      <th>3</th>\n",
              "      <td>4</td>\n",
              "      <td>0.81</td>\n",
              "      <td>60.1</td>\n",
              "      <td>59.0</td>\n",
              "      <td>6.09</td>\n",
              "      <td>6.03</td>\n",
              "      <td>3.65</td>\n",
              "      <td>3.0</td>\n",
              "      <td>5.0</td>\n",
              "      <td>1.0</td>\n",
              "    </tr>\n",
              "    <tr>\n",
              "      <th>4</th>\n",
              "      <td>5</td>\n",
              "      <td>0.40</td>\n",
              "      <td>61.2</td>\n",
              "      <td>56.0</td>\n",
              "      <td>4.74</td>\n",
              "      <td>4.80</td>\n",
              "      <td>2.92</td>\n",
              "      <td>4.0</td>\n",
              "      <td>3.0</td>\n",
              "      <td>6.0</td>\n",
              "    </tr>\n",
              "  </tbody>\n",
              "</table>\n",
              "</div>\n",
              "      <button class=\"colab-df-convert\" onclick=\"convertToInteractive('df-1ed630f1-af67-423c-84c0-6b4c22e828c7')\"\n",
              "              title=\"Convert this dataframe to an interactive table.\"\n",
              "              style=\"display:none;\">\n",
              "        \n",
              "  <svg xmlns=\"http://www.w3.org/2000/svg\" height=\"24px\"viewBox=\"0 0 24 24\"\n",
              "       width=\"24px\">\n",
              "    <path d=\"M0 0h24v24H0V0z\" fill=\"none\"/>\n",
              "    <path d=\"M18.56 5.44l.94 2.06.94-2.06 2.06-.94-2.06-.94-.94-2.06-.94 2.06-2.06.94zm-11 1L8.5 8.5l.94-2.06 2.06-.94-2.06-.94L8.5 2.5l-.94 2.06-2.06.94zm10 10l.94 2.06.94-2.06 2.06-.94-2.06-.94-.94-2.06-.94 2.06-2.06.94z\"/><path d=\"M17.41 7.96l-1.37-1.37c-.4-.4-.92-.59-1.43-.59-.52 0-1.04.2-1.43.59L10.3 9.45l-7.72 7.72c-.78.78-.78 2.05 0 2.83L4 21.41c.39.39.9.59 1.41.59.51 0 1.02-.2 1.41-.59l7.78-7.78 2.81-2.81c.8-.78.8-2.07 0-2.86zM5.41 20L4 18.59l7.72-7.72 1.47 1.35L5.41 20z\"/>\n",
              "  </svg>\n",
              "      </button>\n",
              "      \n",
              "  <style>\n",
              "    .colab-df-container {\n",
              "      display:flex;\n",
              "      flex-wrap:wrap;\n",
              "      gap: 12px;\n",
              "    }\n",
              "\n",
              "    .colab-df-convert {\n",
              "      background-color: #E8F0FE;\n",
              "      border: none;\n",
              "      border-radius: 50%;\n",
              "      cursor: pointer;\n",
              "      display: none;\n",
              "      fill: #1967D2;\n",
              "      height: 32px;\n",
              "      padding: 0 0 0 0;\n",
              "      width: 32px;\n",
              "    }\n",
              "\n",
              "    .colab-df-convert:hover {\n",
              "      background-color: #E2EBFA;\n",
              "      box-shadow: 0px 1px 2px rgba(60, 64, 67, 0.3), 0px 1px 3px 1px rgba(60, 64, 67, 0.15);\n",
              "      fill: #174EA6;\n",
              "    }\n",
              "\n",
              "    [theme=dark] .colab-df-convert {\n",
              "      background-color: #3B4455;\n",
              "      fill: #D2E3FC;\n",
              "    }\n",
              "\n",
              "    [theme=dark] .colab-df-convert:hover {\n",
              "      background-color: #434B5C;\n",
              "      box-shadow: 0px 1px 3px 1px rgba(0, 0, 0, 0.15);\n",
              "      filter: drop-shadow(0px 1px 2px rgba(0, 0, 0, 0.3));\n",
              "      fill: #FFFFFF;\n",
              "    }\n",
              "  </style>\n",
              "\n",
              "      <script>\n",
              "        const buttonEl =\n",
              "          document.querySelector('#df-1ed630f1-af67-423c-84c0-6b4c22e828c7 button.colab-df-convert');\n",
              "        buttonEl.style.display =\n",
              "          google.colab.kernel.accessAllowed ? 'block' : 'none';\n",
              "\n",
              "        async function convertToInteractive(key) {\n",
              "          const element = document.querySelector('#df-1ed630f1-af67-423c-84c0-6b4c22e828c7');\n",
              "          const dataTable =\n",
              "            await google.colab.kernel.invokeFunction('convertToInteractive',\n",
              "                                                     [key], {});\n",
              "          if (!dataTable) return;\n",
              "\n",
              "          const docLinkHtml = 'Like what you see? Visit the ' +\n",
              "            '<a target=\"_blank\" href=https://colab.research.google.com/notebooks/data_table.ipynb>data table notebook</a>'\n",
              "            + ' to learn more about interactive tables.';\n",
              "          element.innerHTML = '';\n",
              "          dataTable['output_type'] = 'display_data';\n",
              "          await google.colab.output.renderOutput(dataTable, element);\n",
              "          const docLink = document.createElement('div');\n",
              "          docLink.innerHTML = docLinkHtml;\n",
              "          element.appendChild(docLink);\n",
              "        }\n",
              "      </script>\n",
              "    </div>\n",
              "  </div>\n",
              "  "
            ]
          },
          "metadata": {},
          "execution_count": 15
        }
      ],
      "source": [
        "test_full.head()"
      ]
    },
    {
      "cell_type": "markdown",
      "source": [
        "## C- Attribute Combinations"
      ],
      "metadata": {
        "id": "40F7QLs2ZZqq"
      }
    },
    {
      "cell_type": "markdown",
      "source": [
        "Delete Id attribute because we don't need it and it don't help us in our predict."
      ],
      "metadata": {
        "id": "WJ0AFu-IaYaS"
      }
    },
    {
      "cell_type": "code",
      "source": [
        "train_full=train_full.drop(['Id'],axis = 1)"
      ],
      "metadata": {
        "id": "5gezExu9Z84N"
      },
      "execution_count": null,
      "outputs": []
    },
    {
      "cell_type": "markdown",
      "source": [
        "Create new attribute called l/w between x and y.\n",
        "\n",
        "l/w = length(x) of the diamond divided by the width(y) of the diamond."
      ],
      "metadata": {
        "id": "GbL0L1Vyb5gz"
      }
    },
    {
      "cell_type": "code",
      "source": [
        "train_full[\"l/w\"]=train_full['x']/train_full['y']"
      ],
      "metadata": {
        "id": "-hXopexN3Dt-"
      },
      "execution_count": null,
      "outputs": []
    },
    {
      "cell_type": "markdown",
      "source": [
        "Fill the null values with zero."
      ],
      "metadata": {
        "id": "yRNzAXp2c9rJ"
      }
    },
    {
      "cell_type": "code",
      "source": [
        "train_full=train_full.fillna(0)"
      ],
      "metadata": {
        "id": "U0sUpqfa3HVS"
      },
      "execution_count": null,
      "outputs": []
    },
    {
      "cell_type": "markdown",
      "source": [
        "Delete old attributes."
      ],
      "metadata": {
        "id": "CfGIzoDye_dQ"
      }
    },
    {
      "cell_type": "code",
      "source": [
        "train_full=train_full.drop(['x'],axis = 1)\n",
        "train_full=train_full.drop(['y'],axis = 1)"
      ],
      "metadata": {
        "id": "RBRQa4kQe8vH"
      },
      "execution_count": null,
      "outputs": []
    },
    {
      "cell_type": "markdown",
      "source": [
        "Do the same thing in test data:"
      ],
      "metadata": {
        "id": "udApsJ_lf1oX"
      }
    },
    {
      "cell_type": "code",
      "source": [
        "test_full_=test_full.drop(['Id'],axis = 1)\n",
        "test_full_[\"l/w\"]=test_full_['x']/test_full_['y']"
      ],
      "metadata": {
        "id": "tTNyjH1egPqq"
      },
      "execution_count": null,
      "outputs": []
    },
    {
      "cell_type": "code",
      "source": [
        "test_full_=test_full_.drop(['x'],axis = 1)\n",
        "test_full_=test_full_.drop(['y'],axis = 1)"
      ],
      "metadata": {
        "id": "kixfO66DgQvO"
      },
      "execution_count": null,
      "outputs": []
    },
    {
      "cell_type": "code",
      "source": [
        "test_full_=test_full_.fillna(0)"
      ],
      "metadata": {
        "id": "KyiMT9bQgVQm"
      },
      "execution_count": null,
      "outputs": []
    },
    {
      "cell_type": "markdown",
      "source": [
        "Separate the predictors and the labels to train_full and dai_price"
      ],
      "metadata": {
        "id": "XLLRfqRUdRvb"
      }
    },
    {
      "cell_type": "code",
      "source": [
        "dai_price=train_full['price']\n",
        "train_full=train_full.drop(['price'],axis = 1)"
      ],
      "metadata": {
        "id": "6IDTPA-y3IaC"
      },
      "execution_count": null,
      "outputs": []
    },
    {
      "cell_type": "markdown",
      "source": [
        "---\n",
        "\n",
        "#4- Select and Train a Model\n",
        "\n",
        "---\n",
        "\n",
        "\n"
      ],
      "metadata": {
        "id": "TDX1jalOkAJ9"
      }
    },
    {
      "cell_type": "code",
      "source": [
        "from sklearn.linear_model import LinearRegression\n",
        "\n",
        "lin_reg = LinearRegression()\n",
        "lin_reg.fit(train_full.values,dai_price)"
      ],
      "metadata": {
        "colab": {
          "base_uri": "https://localhost:8080/"
        },
        "id": "ONucAAiZEOGM",
        "outputId": "be58f95f-b27c-477e-9cd4-a968e9235815"
      },
      "execution_count": null,
      "outputs": [
        {
          "output_type": "execute_result",
          "data": {
            "text/plain": [
              "LinearRegression()"
            ]
          },
          "metadata": {},
          "execution_count": 19
        }
      ]
    },
    {
      "cell_type": "code",
      "source": [
        "from sklearn.metrics import mean_squared_error\n",
        "\n",
        "price_predictions = lin_reg.predict(train_full.values)\n",
        "lin_mse = mean_squared_error(dai_price, price_predictions)\n",
        "lin_rmse = np.sqrt(lin_mse)\n",
        "print(lin_rmse)"
      ],
      "metadata": {
        "colab": {
          "base_uri": "https://localhost:8080/"
        },
        "id": "0YwhjxSGERf2",
        "outputId": "185838bb-c8d6-4ae2-d916-d84ce3bc099f"
      },
      "execution_count": null,
      "outputs": [
        {
          "output_type": "stream",
          "name": "stdout",
          "text": [
            "1220.1983981672945\n"
          ]
        }
      ]
    },
    {
      "cell_type": "code",
      "source": [
        "from sklearn.tree import DecisionTreeRegressor\n",
        "\n",
        "tree_reg = DecisionTreeRegressor(random_state = 42)\n",
        "tree_reg.fit(train_full.values,dai_price)"
      ],
      "metadata": {
        "colab": {
          "base_uri": "https://localhost:8080/"
        },
        "id": "8hbtoUDtEc5D",
        "outputId": "bb4edbe6-8764-46bd-cb82-96c08cefc71d"
      },
      "execution_count": null,
      "outputs": [
        {
          "output_type": "execute_result",
          "data": {
            "text/plain": [
              "DecisionTreeRegressor(random_state=42)"
            ]
          },
          "metadata": {},
          "execution_count": 21
        }
      ]
    },
    {
      "cell_type": "code",
      "source": [
        "from sklearn.model_selection import cross_val_score\n",
        "\n",
        "scores = cross_val_score(tree_reg, train_full.values, dai_price, scoring =\"neg_mean_squared_error\",cv = 15)\n",
        "tree_rmse_scores = np.sqrt(-scores)"
      ],
      "metadata": {
        "id": "t4LmML1vK6ez"
      },
      "execution_count": null,
      "outputs": []
    },
    {
      "cell_type": "code",
      "source": [
        "print(\"Scores: \", tree_rmse_scores)\n",
        "print(\"Mean: \", tree_rmse_scores.mean())\n",
        "print(\"Standard Deviation: \", tree_rmse_scores.std())"
      ],
      "metadata": {
        "colab": {
          "base_uri": "https://localhost:8080/"
        },
        "id": "ZxJd38X8LArp",
        "outputId": "d0f9bcaf-0667-4418-dcdb-fb1707d6d675"
      },
      "execution_count": null,
      "outputs": [
        {
          "output_type": "stream",
          "name": "stdout",
          "text": [
            "Scores:  [728.9749431  677.28791916 677.61947849 723.44515335 730.54058546\n",
            " 683.68949375 763.90482922 743.9415556  786.81497817 723.13886546\n",
            " 700.30190613 740.7099487  691.89151798 774.56272659 721.3988274 ]\n",
            "Mean:  724.5481819042596\n",
            "Standard Deviation:  33.05862867920096\n"
          ]
        }
      ]
    },
    {
      "cell_type": "code",
      "source": [
        "from sklearn.ensemble import RandomForestRegressor\n",
        "forest_reg = RandomForestRegressor()\n",
        "forest_scores = cross_val_score(forest_reg,train_full.values, dai_price,scoring = \"neg_mean_squared_error\", cv = 10)\n",
        "forest_rmse_scores = np.sqrt(-forest_scores)"
      ],
      "metadata": {
        "id": "p0a_BB6jLFUx"
      },
      "execution_count": null,
      "outputs": []
    },
    {
      "cell_type": "code",
      "source": [
        "print(\"Scores: \", forest_rmse_scores)\n",
        "print(\"Mean: \", forest_rmse_scores.mean())\n",
        "print(\"Standard Deviation: \", forest_rmse_scores.std())"
      ],
      "metadata": {
        "colab": {
          "base_uri": "https://localhost:8080/"
        },
        "id": "Y_WzMZdGLKPq",
        "outputId": "eff843ce-adc1-4e56-90b2-10c3ed014451"
      },
      "execution_count": null,
      "outputs": [
        {
          "output_type": "stream",
          "name": "stdout",
          "text": [
            "Scores:  [543.67877144 509.24987302 546.43621294 526.79121551 541.43903837\n",
            " 550.38349846 549.13363668 515.41165064 509.69100732 552.76116015]\n",
            "Mean:  534.4976064528506\n",
            "Standard Deviation:  16.588000201035854\n"
          ]
        }
      ]
    },
    {
      "cell_type": "markdown",
      "source": [
        "Using GridSearchCV to search for the best combination of hyperparameter values for the RandomForestRegressor"
      ],
      "metadata": {
        "id": "EXGjgGsHhAIw"
      }
    },
    {
      "cell_type": "code",
      "execution_count": null,
      "metadata": {
        "id": "t2mJMz902-nQ"
      },
      "outputs": [],
      "source": [
        "from sklearn.ensemble import RandomForestRegressor\n",
        "from sklearn.model_selection import cross_val_score\n",
        "from sklearn.model_selection import GridSearchCV\n",
        "\n",
        "param_grid = [\n",
        "              {'n_estimators': [778,334], 'max_features':[6]},\n",
        "              {'bootstrap':[False], 'max_features':[2,3,4],'n_estimators':[3,10]}\n",
        "]\n",
        "forest_reg = RandomForestRegressor(random_state = 42)\n",
        "\n",
        "grid_search = GridSearchCV(forest_reg,param_grid,cv = 10, scoring = 'neg_mean_squared_error',return_train_score = True)\n",
        "grid_search.fit(train_full.values, dai_price)"
      ]
    },
    {
      "cell_type": "markdown",
      "source": [
        "Getting the best estimator"
      ],
      "metadata": {
        "id": "JeY5_zC8ht5O"
      }
    },
    {
      "cell_type": "code",
      "execution_count": null,
      "metadata": {
        "colab": {
          "base_uri": "https://localhost:8080/"
        },
        "id": "5GAJX4WZ5mXx",
        "outputId": "72b4ff8a-753c-4931-df96-9278e86203b0"
      },
      "outputs": [
        {
          "output_type": "execute_result",
          "data": {
            "text/plain": [
              "RandomForestRegressor(max_features=6, n_estimators=778, random_state=42)"
            ]
          },
          "metadata": {},
          "execution_count": 33
        }
      ],
      "source": [
        "grid_search.best_estimator_"
      ]
    },
    {
      "cell_type": "markdown",
      "source": [
        "Display the the evaluation scores for every estimator"
      ],
      "metadata": {
        "id": "HM0fmzo9h8bH"
      }
    },
    {
      "cell_type": "code",
      "source": [
        "cvres = grid_search.cv_results_\n",
        "\n",
        "for mean_score, params in zip(cvres[\"mean_test_score\"],cvres[\"params\"]):\n",
        "  print(np.sqrt(-mean_score), params)"
      ],
      "metadata": {
        "colab": {
          "base_uri": "https://localhost:8080/"
        },
        "id": "H9rkcKcTGSru",
        "outputId": "7bf3b216-7176-4902-e653-02af864af160"
      },
      "execution_count": null,
      "outputs": [
        {
          "output_type": "stream",
          "name": "stdout",
          "text": [
            "528.7519724001176 {'max_features': 6, 'n_estimators': 778}\n",
            "529.1518933645362 {'max_features': 6, 'n_estimators': 334}\n",
            "709.2617827298286 {'bootstrap': False, 'max_features': 2, 'n_estimators': 3}\n",
            "609.9986782453357 {'bootstrap': False, 'max_features': 2, 'n_estimators': 10}\n",
            "648.1796121879062 {'bootstrap': False, 'max_features': 3, 'n_estimators': 3}\n",
            "573.1284978295537 {'bootstrap': False, 'max_features': 3, 'n_estimators': 10}\n",
            "628.7844519847501 {'bootstrap': False, 'max_features': 4, 'n_estimators': 3}\n",
            "566.4866724749503 {'bootstrap': False, 'max_features': 4, 'n_estimators': 10}\n"
          ]
        }
      ]
    },
    {
      "cell_type": "code",
      "source": [
        "feature_importances = grid_search.best_estimator_.feature_importances_\n",
        "feature_importances"
      ],
      "metadata": {
        "colab": {
          "base_uri": "https://localhost:8080/"
        },
        "id": "efjdM7ZHicac",
        "outputId": "beb45c57-371c-46cb-f9dc-750db92b8752"
      },
      "execution_count": null,
      "outputs": [
        {
          "output_type": "execute_result",
          "data": {
            "text/plain": [
              "array([0.67570224, 0.00508851, 0.00234729, 0.21060011, 0.00264935,\n",
              "       0.03221464, 0.06548195, 0.00591589])"
            ]
          },
          "metadata": {},
          "execution_count": 40
        }
      ]
    },
    {
      "cell_type": "markdown",
      "source": [
        "Display the relative importance scores of each attribute for making accurate predictions"
      ],
      "metadata": {
        "id": "njnfv_tHisKG"
      }
    },
    {
      "cell_type": "code",
      "source": [
        "attributes =['carat','depth','table','l/w','z','0','1','2']\n",
        "sorted(zip(feature_importances,attributes),reverse = True)"
      ],
      "metadata": {
        "id": "9s6tjVYHnykT",
        "colab": {
          "base_uri": "https://localhost:8080/"
        },
        "outputId": "376daf31-d786-4f45-9ecd-f41652d51927"
      },
      "execution_count": null,
      "outputs": [
        {
          "output_type": "execute_result",
          "data": {
            "text/plain": [
              "[(0.6757022447354077, 'carat'),\n",
              " (0.21060011222299083, 'l/w'),\n",
              " (0.06548195132437226, '1'),\n",
              " (0.03221464146167595, '0'),\n",
              " (0.005915890156011038, '2'),\n",
              " (0.005088512216258567, 'depth'),\n",
              " (0.002649353422019554, 'z'),\n",
              " (0.002347294461263882, 'table')]"
            ]
          },
          "metadata": {},
          "execution_count": 43
        }
      ]
    },
    {
      "cell_type": "markdown",
      "source": [
        "Make a predict on test data"
      ],
      "metadata": {
        "id": "NM7tuZyPkbkm"
      }
    },
    {
      "cell_type": "code",
      "execution_count": null,
      "metadata": {
        "colab": {
          "base_uri": "https://localhost:8080/"
        },
        "id": "L0xWcZRqjF6S",
        "outputId": "10400012-beb0-4d8a-984c-fc83775af612"
      },
      "outputs": [
        {
          "output_type": "stream",
          "name": "stderr",
          "text": [
            "/usr/local/lib/python3.7/dist-packages/sklearn/utils/validation.py:1692: FutureWarning: Feature names only support names that are all strings. Got feature names with dtypes: ['int', 'str']. An error will be raised in 1.2.\n",
            "  FutureWarning,\n"
          ]
        }
      ],
      "source": [
        "final_model =grid_search.best_estimator_\n",
        "final_predictions =pd.Series(final_model.predict(test_full_))\n",
        "my_predictions = pd.DataFrame({'Id':test_full['Id'],'price':final_predictions})"
      ]
    },
    {
      "cell_type": "markdown",
      "source": [
        "Take a look at the my_predictions DataFrame using head() method"
      ],
      "metadata": {
        "id": "w9BwgV8Fkmyl"
      }
    },
    {
      "cell_type": "code",
      "source": [
        "my_predictions.head()"
      ],
      "metadata": {
        "colab": {
          "base_uri": "https://localhost:8080/",
          "height": 206
        },
        "id": "4t90w1fZ6hlS",
        "outputId": "2f3ffe3f-7a3e-4c2b-b2f1-379712fb7008"
      },
      "execution_count": null,
      "outputs": [
        {
          "output_type": "execute_result",
          "data": {
            "text/plain": [
              "   Id        price\n",
              "0   1  1004.877892\n",
              "1   2  2902.419023\n",
              "2   3   807.694087\n",
              "3   4  2832.763496\n",
              "4   5  1101.096401"
            ],
            "text/html": [
              "\n",
              "  <div id=\"df-5584b94c-6dc2-4679-a54e-76c5487ac1cb\">\n",
              "    <div class=\"colab-df-container\">\n",
              "      <div>\n",
              "<style scoped>\n",
              "    .dataframe tbody tr th:only-of-type {\n",
              "        vertical-align: middle;\n",
              "    }\n",
              "\n",
              "    .dataframe tbody tr th {\n",
              "        vertical-align: top;\n",
              "    }\n",
              "\n",
              "    .dataframe thead th {\n",
              "        text-align: right;\n",
              "    }\n",
              "</style>\n",
              "<table border=\"1\" class=\"dataframe\">\n",
              "  <thead>\n",
              "    <tr style=\"text-align: right;\">\n",
              "      <th></th>\n",
              "      <th>Id</th>\n",
              "      <th>price</th>\n",
              "    </tr>\n",
              "  </thead>\n",
              "  <tbody>\n",
              "    <tr>\n",
              "      <th>0</th>\n",
              "      <td>1</td>\n",
              "      <td>1004.877892</td>\n",
              "    </tr>\n",
              "    <tr>\n",
              "      <th>1</th>\n",
              "      <td>2</td>\n",
              "      <td>2902.419023</td>\n",
              "    </tr>\n",
              "    <tr>\n",
              "      <th>2</th>\n",
              "      <td>3</td>\n",
              "      <td>807.694087</td>\n",
              "    </tr>\n",
              "    <tr>\n",
              "      <th>3</th>\n",
              "      <td>4</td>\n",
              "      <td>2832.763496</td>\n",
              "    </tr>\n",
              "    <tr>\n",
              "      <th>4</th>\n",
              "      <td>5</td>\n",
              "      <td>1101.096401</td>\n",
              "    </tr>\n",
              "  </tbody>\n",
              "</table>\n",
              "</div>\n",
              "      <button class=\"colab-df-convert\" onclick=\"convertToInteractive('df-5584b94c-6dc2-4679-a54e-76c5487ac1cb')\"\n",
              "              title=\"Convert this dataframe to an interactive table.\"\n",
              "              style=\"display:none;\">\n",
              "        \n",
              "  <svg xmlns=\"http://www.w3.org/2000/svg\" height=\"24px\"viewBox=\"0 0 24 24\"\n",
              "       width=\"24px\">\n",
              "    <path d=\"M0 0h24v24H0V0z\" fill=\"none\"/>\n",
              "    <path d=\"M18.56 5.44l.94 2.06.94-2.06 2.06-.94-2.06-.94-.94-2.06-.94 2.06-2.06.94zm-11 1L8.5 8.5l.94-2.06 2.06-.94-2.06-.94L8.5 2.5l-.94 2.06-2.06.94zm10 10l.94 2.06.94-2.06 2.06-.94-2.06-.94-.94-2.06-.94 2.06-2.06.94z\"/><path d=\"M17.41 7.96l-1.37-1.37c-.4-.4-.92-.59-1.43-.59-.52 0-1.04.2-1.43.59L10.3 9.45l-7.72 7.72c-.78.78-.78 2.05 0 2.83L4 21.41c.39.39.9.59 1.41.59.51 0 1.02-.2 1.41-.59l7.78-7.78 2.81-2.81c.8-.78.8-2.07 0-2.86zM5.41 20L4 18.59l7.72-7.72 1.47 1.35L5.41 20z\"/>\n",
              "  </svg>\n",
              "      </button>\n",
              "      \n",
              "  <style>\n",
              "    .colab-df-container {\n",
              "      display:flex;\n",
              "      flex-wrap:wrap;\n",
              "      gap: 12px;\n",
              "    }\n",
              "\n",
              "    .colab-df-convert {\n",
              "      background-color: #E8F0FE;\n",
              "      border: none;\n",
              "      border-radius: 50%;\n",
              "      cursor: pointer;\n",
              "      display: none;\n",
              "      fill: #1967D2;\n",
              "      height: 32px;\n",
              "      padding: 0 0 0 0;\n",
              "      width: 32px;\n",
              "    }\n",
              "\n",
              "    .colab-df-convert:hover {\n",
              "      background-color: #E2EBFA;\n",
              "      box-shadow: 0px 1px 2px rgba(60, 64, 67, 0.3), 0px 1px 3px 1px rgba(60, 64, 67, 0.15);\n",
              "      fill: #174EA6;\n",
              "    }\n",
              "\n",
              "    [theme=dark] .colab-df-convert {\n",
              "      background-color: #3B4455;\n",
              "      fill: #D2E3FC;\n",
              "    }\n",
              "\n",
              "    [theme=dark] .colab-df-convert:hover {\n",
              "      background-color: #434B5C;\n",
              "      box-shadow: 0px 1px 3px 1px rgba(0, 0, 0, 0.15);\n",
              "      filter: drop-shadow(0px 1px 2px rgba(0, 0, 0, 0.3));\n",
              "      fill: #FFFFFF;\n",
              "    }\n",
              "  </style>\n",
              "\n",
              "      <script>\n",
              "        const buttonEl =\n",
              "          document.querySelector('#df-5584b94c-6dc2-4679-a54e-76c5487ac1cb button.colab-df-convert');\n",
              "        buttonEl.style.display =\n",
              "          google.colab.kernel.accessAllowed ? 'block' : 'none';\n",
              "\n",
              "        async function convertToInteractive(key) {\n",
              "          const element = document.querySelector('#df-5584b94c-6dc2-4679-a54e-76c5487ac1cb');\n",
              "          const dataTable =\n",
              "            await google.colab.kernel.invokeFunction('convertToInteractive',\n",
              "                                                     [key], {});\n",
              "          if (!dataTable) return;\n",
              "\n",
              "          const docLinkHtml = 'Like what you see? Visit the ' +\n",
              "            '<a target=\"_blank\" href=https://colab.research.google.com/notebooks/data_table.ipynb>data table notebook</a>'\n",
              "            + ' to learn more about interactive tables.';\n",
              "          element.innerHTML = '';\n",
              "          dataTable['output_type'] = 'display_data';\n",
              "          await google.colab.output.renderOutput(dataTable, element);\n",
              "          const docLink = document.createElement('div');\n",
              "          docLink.innerHTML = docLinkHtml;\n",
              "          element.appendChild(docLink);\n",
              "        }\n",
              "      </script>\n",
              "    </div>\n",
              "  </div>\n",
              "  "
            ]
          },
          "metadata": {},
          "execution_count": 39
        }
      ]
    },
    {
      "cell_type": "markdown",
      "source": [
        "Convert the my_predictions DataFrame to csv file and save it."
      ],
      "metadata": {
        "id": "OC8MEdRGk7Cn"
      }
    },
    {
      "cell_type": "code",
      "execution_count": null,
      "metadata": {
        "id": "EuvowH1lS_zi"
      },
      "outputs": [],
      "source": [
        "my_predictions.to_csv('submission.csv',index=False)"
      ]
    }
  ],
  "metadata": {
    "colab": {
      "collapsed_sections": [
        "4mPo5IPbUfon",
        "4i0UjajvI7HS"
      ],
      "name": "Copy of diamond_project_code.ipynb",
      "provenance": []
    },
    "kernelspec": {
      "display_name": "Python 3",
      "name": "python3"
    },
    "language_info": {
      "name": "python"
    }
  },
  "nbformat": 4,
  "nbformat_minor": 0
}